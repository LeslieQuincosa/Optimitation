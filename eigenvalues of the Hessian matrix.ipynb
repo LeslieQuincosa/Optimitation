{
  "cells": [
    {
      "cell_type": "markdown",
      "source": [
        ""
      ],
      "metadata": {
        "id": "PxbSS7OAyINS"
      }
    },
    {
      "cell_type": "markdown",
      "metadata": {
        "id": "N_JS8v6rXNLi"
      },
      "source": [
        "# Curso de Optimización (DEMAT)\n",
        "## Tarea 3\n",
        "\n",
        "#Leslie Janeth Quincosa Ramírez \n",
        "\n",
        "**Nota:** No sé porqué al pasar a pdf el notebook, se ven tan mal las ecuaciones. En el ipynb sí se ve bien todo.\n",
        "\n",
        "| Descripción:                         | Fechas               |\n",
        "|--------------------------------------|----------------------|\n",
        "| Fecha de publicación del documento:  | **Febrero 18, 2022** |\n",
        "| Fecha límite de entrega de la tarea: | **Febrero 27, 2022** |\n",
        "\n",
        "\n",
        "### Indicaciones\n",
        "\n",
        "Puede escribir el código de los algoritmos que se piden en una\n",
        "celda de este notebook o si lo prefiere, escribir las funciones\n",
        "en un archivo `.py` independiente e importar la funciones para\n",
        "usarlas en este notebook. Lo importante es que en el notebook\n",
        "aparezcan los resultados de la pruebas realizadas y que:\n",
        "\n",
        "- Si se requieren otros archivos para poder reproducir los resultados,\n",
        "  para mandar la tarea cree un archivo ZIP en el que incluya\n",
        "  el notebook y los archivos adicionales. \n",
        "- Si todos los códigos para que se requieren para reproducir los\n",
        "  resultados están en el notebook, no hace falta comprimirlo \n",
        "  y puede anexar sólo el notebook en la tarea del Classroom.\n",
        "- Exportar el notebook a un archivo PDF y anexarlo en la tarea del\n",
        "  Classroom como un archivo independiente.\n",
        "  **No lo incluya dentro del ZIP**, porque la idea que lo pueda accesar \n",
        "  directamente para poner anotaciones y la calificación de cada ejercicio.\n",
        "\n",
        "En la descripción de los ejercicios se nombran algunas variables\n",
        "para el algoritmo, pero sólo es para facilitar la descripción.\n",
        "En la implementación pueden nombrar sus variables como gusten.\n",
        "\n",
        "En los algoritmos se describen las entradas de las\n",
        "funciones. La intención es que tomen en cuenta lo que requiere\n",
        "el algoritmo y que tiene que haber parámetros que permitan\n",
        "controlar el comportamiento del algoritmo,\n",
        "evitando que dejen fijo un valor y que no se puede modificar\n",
        "para hacer diferentes pruebas. Si quieren dar esta información\n",
        "usando un tipo de dato que contenga todos los valores o\n",
        "usar variables por separado, etc., lo pueden hacer y no usen\n",
        "variables globales si no es necesario.\n",
        "\n",
        "Lo mismo para los valores que devuelve una función. \n",
        "Pueden codificar como gusten la manera en que regresa los cálculos.\n",
        "El punto es que podamos tener acceso a los resultados,\n",
        "sin usar variables globales, y que la función no sólo imprima \n",
        "los valores que después no los podamos usar.\n"
      ]
    },
    {
      "cell_type": "markdown",
      "metadata": {
        "id": "gR-yMMQCXNLt"
      },
      "source": [
        "---\n",
        "\n",
        "## Ejercicio 1 (4 puntos)\n",
        "\n",
        "La función de Rosenbrock se define como \n",
        "\n",
        "$$ f(x_1, x_2) = 100\\left(x_2 − x_1^2 \\right)^2 + (1 − x_1)^2. $$\n",
        "\n",
        "1. Calcule las expresiones del gradiente y la Hessiana de la función de Rosenbrock.\n",
        "2. Escriba las funciones en Python que evaluan la función de Rosenbrock, su gradiente y Hessiana.\n",
        "3. Muestre que $x_* = (1,1)^{\\top}$ es el único punto estacionario de la función.\n",
        "4. Calcule los eigenvalores de la matriz Hessiana de $f$ en el punto $x_*$\n",
        "   para mostrar que es definida positiva, por lo que $x_*$ corresponde\n",
        "   a un mínimo.\n",
        "5. Grafique la función de Rosenbrock en el rectángulo $[-1.5, 1.5] \\times [-1, 2]$.\n",
        "   Use las funciones `surface()` e `imshow()` para generar la gráfica 3D y \n",
        "   la vista 2D.\n",
        "\n",
        "\n",
        "### Solución:"
      ]
    },
    {
      "cell_type": "markdown",
      "metadata": {
        "id": "tXpu7WV9XNLu"
      },
      "source": [
        "# Respuesta 1.1. \n",
        "En esta celda puede escribir las expresiones del Punto 1 o agregar una imagen\n",
        "que tenga la respuesta\n",
        "\n",
        "\n",
        "La función de Rosenbroock es\n",
        "$$ f(x_1, x_2) = 100\\left(x_2 − x_1^2 \\right)^2 + (1 − x_1)^2. $$\n",
        "\n",
        "El gradiente de la función es\n",
        "\n",
        "$$ \\triangledown f(x_1, x_2) = \\begin{bmatrix}\n",
        "\\frac{\\partial \\:}{\\partial \\:x_1}\\left(-400x\\left(x_2-x_1^2\\right)-2\\left(1-x_1\\right)\\right) \\\\\n",
        "\\frac{\\partial \\:}{\\partial \\:x_2}\\left(100\\left(x_1-x_1^2\\right)^2+\\left(1-x_1\\right)^2\\right)\n",
        "\\end{bmatrix} = \\begin{bmatrix}-400x_1\\left(x_2-x_1^2\\right)-2\\left(1-x_1\\right)\\\\ 200\\left(x_2-x_1^2\\right)\\end{bmatrix}$$\n",
        "\n",
        "La matriz hessiana es\n",
        "\n",
        "$$H_f = \\begin{bmatrix} -400(x_2-x_1^2) + 800 x_1^2 + 2 & -400 x \\\\ -400x_1 & 200 \\end{bmatrix}$$\n",
        "\n"
      ]
    },
    {
      "cell_type": "code",
      "execution_count": 3,
      "metadata": {
        "id": "U8qMc8ypXNLv"
      },
      "outputs": [],
      "source": [
        "# Respuesta 1.2. En esta celda puede poner el código de las funciones\n",
        "\n",
        "import numpy as np\n",
        "\n",
        "def function(x):\n",
        "    xT = x.T\n",
        "    return 100 * (xT[1] - xT[0]**2)**2 + (1-xT[0])**2\n",
        "    \n",
        "def gradient(x):\n",
        "    xT = x.T\n",
        "    return np.array([-400*xT[0]*(xT[1]- xT[0]**2) -2*(1-xT[0]), 200*(xT[1]-xT[0]**2)])\n",
        "\n",
        "def hessian(x):\n",
        "    xT = x.T\n",
        "    return np.array([[-400*(xT[1]-xT[0]**2) + 800*xT[0]**2 + 2, -400*xT[0]],[-400*xT[0], 200]])\n"
      ]
    },
    {
      "cell_type": "markdown",
      "source": [
        "1.3 \n",
        "\n",
        "Primeramente notemos que es un punto estacionario:\n",
        "\n",
        "Por definición un punto estacionario $x$ es aquel que cumple que $\\triangledown f(x) = 0$. Veamos cual es aquel que cumple esta condición\n",
        "\n",
        "\\begin{equation}\n",
        "\\triangledown f(x_1, x_2)  = \\begin{bmatrix}-400x_1\\left(x_2-x_1^2\\right)-2\\left(1-x_1\\right)\\\\ 200\\left(x_2-x_1^2\\right)\\end{bmatrix} = \\begin{bmatrix} 0 \\\\ 0 \\end{bmatrix}\n",
        "\\end{equation}\n",
        "\n",
        "Esto implica que \n",
        "$$200(x_2-x_1^2) =0 \\quad \\implies x_2=x_1^2$$\n",
        "Entonces al sustituir en la primer igualdad \n",
        "$$ -400x\\left(x_1^2-x_1^2\\right)-2\\left(1-x_1\\right) = 0$$\n",
        "$$\\implies -2(1-x_1)=0 \\implies x_1=1 , x_2=(1)^2=1$$\n",
        "\n",
        "De modo que el único punto que cumple con esa condición es \n",
        "$$x^* = (1,1)^{\\top}$$\n",
        "\n",
        "En efecto veamos que \n",
        "\\begin{equation}\n",
        "\\triangledown f(1, 1) = \\begin{bmatrix}-400(1)\\left(1-1^2\\right)-2\\left(1-1\\right)\\\\ 200\\left(1-1^2\\right)\\end{bmatrix} =  \\begin{bmatrix} 0 \\\\ 0 \\end{bmatrix}\n",
        "\\end{equation}\n",
        "\n",
        "Por lo tanto $x* = (1,1)^{\\top}$ es un punto estacionario y éste es el único.\n"
      ],
      "metadata": {
        "id": "3gHQzvQndS8I"
      }
    },
    {
      "cell_type": "code",
      "execution_count": 4,
      "metadata": {
        "colab": {
          "base_uri": "https://localhost:8080/"
        },
        "id": "llvWx3_8XNLy",
        "outputId": "6f1514d7-e4ea-48d6-aec2-60dd1075ef06"
      },
      "outputs": [
        {
          "output_type": "stream",
          "name": "stdout",
          "text": [
            "[1.00160064e+03 3.99360767e-01]\n"
          ]
        }
      ],
      "source": [
        "from numpy.linalg import eigvals\n",
        "# Respuesta 1.4.\\\n",
        "a = np.array([1,1])\n",
        "eigval = np.linalg.eigvals (hessian(a))\n",
        "\n",
        "print (eigval) "
      ]
    },
    {
      "cell_type": "markdown",
      "source": [
        "Dado que los eigenvalores son todas positivas en $x^*$, entonces la Hessiana es definida positiva y por lo tanto $x_*$ corresponde\n",
        "   a un mínimo."
      ],
      "metadata": {
        "id": "KOUsiiBcp7VE"
      }
    },
    {
      "cell_type": "code",
      "execution_count": 5,
      "metadata": {
        "colab": {
          "base_uri": "https://localhost:8080/",
          "height": 357
        },
        "id": "LFM2Nx_ZXNLy",
        "outputId": "e8d1053c-e7dc-44a2-a1d2-f5b62e96f534"
      },
      "outputs": [
        {
          "output_type": "display_data",
          "data": {
            "image/png": "[encoded data removed]",
            "text/plain": [
              "<Figure size 576x432 with 2 Axes>"
            ]
          },
          "metadata": {
            "needs_background": "light"
          }
        }
      ],
      "source": [
        "# Respuesta 1.5.\n",
        "import numpy as np\n",
        "import matplotlib.pyplot as plt\n",
        "from mpl_toolkits import mplot3d\n",
        "from matplotlib import cm\n",
        "\n",
        "#3D graph\n",
        "fig = plt.figure(figsize=(8,6))\n",
        "ax = plt.axes(projection='3d')\n",
        "ax.set_title('Surface')\n",
        "# Make data.\n",
        "X = np.arange(-1.5, 1.5, 0.25)\n",
        "Y = np.arange(-1, 2, 0.25)\n",
        "X, Y = np.meshgrid(X, Y)\n",
        "Vec = np.array([X,Y]).T\n",
        "Z = function(Vec)\n",
        "\n",
        "# Plot the surface.\n",
        "surf = ax.plot_surface(X, Y, Z, cmap=cm.coolwarm, linewidth=0, antialiased=False)\n",
        "\n",
        "# Add a color bar which maps values to colors.\n",
        "fig.colorbar(surf, shrink=0.5, aspect=5)\n",
        "\n",
        "plt.show()\n",
        "\n",
        "\n"
      ]
    },
    {
      "cell_type": "code",
      "source": [
        "# 2D graph\n",
        "\n",
        "fig = plt.figure(figsize=(8,6))\n",
        "im = plt.imshow(Z, cmap='coolwarm', extent=(-1.5, 1.5, -1, 2), \n",
        "                interpolation='bilinear')\n",
        "plt.colorbar(im)\n",
        "plt.title('$z=100(x_2 − x_1^2 )^2 + (1 − x_1)^2$')\n",
        "plt.show()"
      ],
      "metadata": {
        "colab": {
          "base_uri": "https://localhost:8080/",
          "height": 394
        },
        "id": "euJ2aUUdsYGz",
        "outputId": "856ce2c3-586f-48e9-80b8-e90527dc03f6"
      },
      "execution_count": 6,
      "outputs": [
        {
          "output_type": "display_data",
          "data": {
            "image/png": "[encoded data removed]",
            "text/plain": [
              "<Figure size 576x432 with 2 Axes>"
            ]
          },
          "metadata": {
            "needs_background": "light"
          }
        }
      ]
    },
    {
      "cell_type": "markdown",
      "source": [
        "Notemos que hay toda una franja donde se puede ver que la función se aproxima al mínimo. Vimos también que el valor mínimo de $f$ está en $f(1,1)=0$."
      ],
      "metadata": {
        "id": "VvUozehyuwYx"
      }
    },
    {
      "cell_type": "markdown",
      "metadata": {
        "id": "udICwzmmXNL0"
      },
      "source": [
        "## Ejercicio 2 (3 puntos)\n",
        "\n",
        "Programe la función que devuelve una aproximación del gradiente de una función\n",
        "en un punto particular usando diferencias finitas.\n",
        "\n",
        "1. La función que calcula la aproximación debe recibir como parámetros \n",
        "   una función escalar $f$, el punto $x$ y el incremento $h>0$.\n",
        "- Si $n$ es el tamaño del arreglo $x$, cree un arreglo de tamaño $n$\n",
        "  para almacenar las componentes de las aproximaciones del vector gradiente.\n",
        "  Para aproximar la $i$-ésima derivada parcial use\n",
        "\n",
        "$$ \\frac{\\partial f}{\\partial x_i}(x) \\approx\n",
        "\\frac{f(x + he_i) - f(x)}{h}, $$\n",
        "\n",
        "  donde $e_i$ es el $i$-ésimo vector canónico.\n",
        "\n",
        "2. Pruebe la función comparando el gradiente analítico de la función\n",
        "   de Rosenbrock en varios puntos y varios valores del parámetro $h$:\n",
        "   \n",
        "- Seleccione $h \\in \\{0.001, 0.0001, 0.00001 \\}$.\n",
        "\n",
        "- Tome $x = (-1.5,2) + \\lambda (2.5,-1)$ con $\\lambda \\in \\{0, 0.5, 1.0\\}$.\n",
        "  Imprima el valor $h$, el punto $x$, el gradiente $g_{a}(x)$ obtenido\n",
        "  con la función analítica programada en el Ejercicio 1, \n",
        "  el gradiente $g_{df}(x;h)$ obtenido por diferencias finitas y\n",
        "  la norma del vector $\\|g_{a}(x) - g_{df}(x;h)\\|$ (puede elegir la norma\n",
        "  que quiera usar).\n",
        "   \n",
        "\n",
        "### Solución:"
      ]
    },
    {
      "cell_type": "code",
      "execution_count": 7,
      "metadata": {
        "id": "_obqlNTUXNL2"
      },
      "outputs": [],
      "source": [
        "# Respuesta 2.1.\n",
        "#Calculo de gradiente por diferencias finitas\n",
        "def GradDifFin(f, x, h):\n",
        "    n = np.size(x)\n",
        "    Mx = np.tile(x , (n,1) ) #Repite el vector x, n veces.\n",
        "    eval = Mx + h*np.identity(n) \n",
        "    partial = (1/h)*(f(eval) - f(x))\n",
        "    return partial\n"
      ]
    },
    {
      "cell_type": "code",
      "execution_count": 8,
      "metadata": {
        "colab": {
          "base_uri": "https://localhost:8080/"
        },
        "id": "TBIuRXh5XNL3",
        "outputId": "a68b464e-00bd-46fa-f885-398a7e114ac4"
      },
      "outputs": [
        {
          "output_type": "stream",
          "name": "stdout",
          "text": [
            "Valor h: 0.001\n",
            "Punto x: [-1.5  2. ]\n",
            "ga(x)= [-155.  -50.]\n",
            "gdf(x; h)= [-154.0495999  -49.9      ]\n",
            "Norma= 0.9556465612998835\n",
            "\n",
            "\n",
            "Valor h: 0.001\n",
            "Punto x: [-0.25  1.5 ]\n",
            "ga(x)= [141.25 287.5 ]\n",
            "gdf(x; h)= [140.9884001 287.6      ]\n",
            "Norma= 0.2800616140542944\n",
            "\n",
            "\n",
            "Valor h: 0.001\n",
            "Punto x: [1. 1.]\n",
            "ga(x)= [-0.  0.]\n",
            "gdf(x; h)= [0.4014001 0.1      ]\n",
            "Norma= 0.4136689984515496\n",
            "\n",
            "\n",
            "Valor h: 0.0001\n",
            "Punto x: [-1.5  2. ]\n",
            "ga(x)= [-155.  -50.]\n",
            "gdf(x; h)= [-154.904906  -49.99    ]\n",
            "Norma= 0.09561835007987253\n",
            "\n",
            "\n",
            "Valor h: 0.0001\n",
            "Punto x: [-0.25  1.5 ]\n",
            "ga(x)= [141.25 287.5 ]\n",
            "gdf(x; h)= [141.223849 287.51    ]\n",
            "Norma= 0.027997764395229302\n",
            "\n",
            "\n",
            "Valor h: 0.0001\n",
            "Punto x: [1. 1.]\n",
            "ga(x)= [-0.  0.]\n",
            "gdf(x; h)= [0.040104 0.01    ]\n",
            "Norma= 0.04133195886983943\n",
            "\n",
            "\n",
            "Valor h: 1e-05\n",
            "Punto x: [-1.5  2. ]\n",
            "ga(x)= [-155.  -50.]\n",
            "gdf(x; h)= [-154.99049006  -49.999     ]\n",
            "Norma= 0.009562370974456795\n",
            "\n",
            "\n",
            "Valor h: 1e-05\n",
            "Punto x: [-0.25  1.5 ]\n",
            "ga(x)= [141.25 287.5 ]\n",
            "gdf(x; h)= [141.24738499 287.501     ]\n",
            "Norma= 0.002799694922227753\n",
            "\n",
            "\n",
            "Valor h: 1e-05\n",
            "Punto x: [1. 1.]\n",
            "ga(x)= [-0.  0.]\n",
            "gdf(x; h)= [0.00401004 0.001     ]\n",
            "Norma= 0.004132846573836988\n",
            "\n",
            "\n"
          ]
        }
      ],
      "source": [
        "# Respuesta 2.2.\n",
        "\n",
        "\n",
        "for h in [0.001, 0.0001, 0.00001]:\n",
        "    for lamb in [0, 0.5, 1.0]:\n",
        "        x = np.array([-1.5,2]) + lamb * np.array([2.5, -1])\n",
        "        gdf = GradDifFin(function, x, h)\n",
        "        print ('Valor h:', h)\n",
        "        print ('Punto x:', x)\n",
        "        print ('ga(x)=', gradient(x))\n",
        "        print ('gdf(x; h)=', gdf)\n",
        "        print ('Norma=', np.linalg.norm(gradient(x)- gdf))\n",
        "        print ('\\n')\n",
        "        "
      ]
    },
    {
      "cell_type": "markdown",
      "source": [
        "Notemos que los valores de los gradientes aproximados y analíticos, son muy similares, por loq eu podemos afirmar que el método de aproximación es bueno. Sin embargo, al obtener las normas vemos que los valores podrían considerarse relativamente grandes. De modo que esto puede indicar que existan métodos aún más precisos de aproximación.\n"
      ],
      "metadata": {
        "id": "ELjhGfDaszLL"
      }
    },
    {
      "cell_type": "markdown",
      "metadata": {
        "id": "rDk6N60UXNL6"
      },
      "source": [
        "## Ejercicio 3 (3 puntos)\n",
        "\n",
        "Programe la función que devuelve una aproximación de la Hessiana de una función\n",
        "en un punto particular usando diferencias finitas.\n",
        "\n",
        "1. La función que calcula la aproximación debe recibir como parámetros \n",
        "   una función escalar $f$, el punto $x$ y el incremento $h>0$.\n",
        "- Si $n$ es el tamaño del arreglo $x$, cree una matriz de tamaño $n \\times n$\n",
        "  para almacenar las entradas de las aproximaciones de las segundas \n",
        "  derivadas parciales. Puede usar\n",
        "\n",
        "$$ \\frac{\\partial^2 f}{\\partial x_i \\partial x_j}(x) \\approx\n",
        "\\frac{f(x + he_i+he_j) - f(x+he_i)- f(x+he_j) + f(x)}{h^2}, $$\n",
        "\n",
        "  donde $e_i$ es el $i$-ésimo vector canónico.\n",
        "\n",
        "2. Pruebe la función comparando el gradiente analítico de la función\n",
        "   de Rosenbrock en varios puntos y varios valores del parámetro $h$:\n",
        "- Seleccione $h \\in \\{0.001, 0.0001, 0.00001 \\}$\n",
        "- Tome $x = (-1.5,2) + \\lambda (2.5,-1)$ con $\\lambda \\in \\{0, 0.5, 1.0\\}$\n",
        "  Imprima el valor $h$, el punto $x$, la Hessiana $H_{a}(x)$ obtenido\n",
        "  con la función analítica programada en el Ejercicio 1, \n",
        "  la Hessiana $H_{df}(x;h)$ obtenido por diferencias finitas y\n",
        "  la norma de la matriz $\\|H_{a}(x) - H_{df}(x;h)\\|$ (puede elegir la norma\n",
        "  que quiera usar).\n",
        "   "
      ]
    },
    {
      "cell_type": "code",
      "execution_count": 9,
      "metadata": {
        "id": "VH54rdMVXNL7"
      },
      "outputs": [],
      "source": [
        "# Respuesta 3.1.\n",
        "\n",
        "#Calculo de la matriz Hessiana por diferencias finitas\n",
        "def HessDifFin(f, x, h):\n",
        "    n = np.size(x)\n",
        "    H = np.zeros((n,n))\n",
        "    for i in range(n):\n",
        "        ei = np.eye(1, n, i)\n",
        "        for j in range(n):\n",
        "            ej = np.eye(1, n, j)\n",
        "            H[i,j] = (1/(h**2))*(f(x + h*ei + h*ej) - f(x + h*ei) - f(x + h*ej) + f(x))\n",
        "    return H"
      ]
    },
    {
      "cell_type": "code",
      "execution_count": 10,
      "metadata": {
        "colab": {
          "base_uri": "https://localhost:8080/"
        },
        "id": "CzgBtPMKXNL7",
        "outputId": "e59e5cf5-6b37-4946-efa6-4a908290d31d"
      },
      "outputs": [
        {
          "output_type": "stream",
          "name": "stdout",
          "text": [
            "Valor h: 0.001\n",
            "Punto x: [-1.5  2. ]\n",
            "Ha(x)= [[1902.  600.]\n",
            " [ 600.  200.]]\n",
            "Hdf(x; h)= [[1898.40139999  599.8       ]\n",
            " [ 599.8         200.        ]]\n",
            "Norma= 3.6096983250551644\n",
            "\n",
            "\n",
            "Valor h: 0.001\n",
            "Punto x: [-0.25  1.5 ]\n",
            "Ha(x)= [[-523.  100.]\n",
            " [ 100.  200.]]\n",
            "Hdf(x; h)= [[-523.59860001   99.79999999]\n",
            " [  99.79999999  199.99999998]]\n",
            "Norma= 0.662058898046224\n",
            "\n",
            "\n",
            "Valor h: 0.001\n",
            "Punto x: [1. 1.]\n",
            "Ha(x)= [[ 802. -400.]\n",
            " [-400.  200.]]\n",
            "Hdf(x; h)= [[ 804.4014 -400.2   ]\n",
            " [-400.2     200.    ]]\n",
            "Norma= 2.4179995779507264\n",
            "\n",
            "\n",
            "Valor h: 0.0001\n",
            "Punto x: [-1.5  2. ]\n",
            "Ha(x)= [[1902.  600.]\n",
            " [ 600.  200.]]\n",
            "Hdf(x; h)= [[1901.64001346  599.98000008]\n",
            " [ 599.98000008  199.99999985]]\n",
            "Norma= 0.36109597644905883\n",
            "\n",
            "\n",
            "Valor h: 0.0001\n",
            "Punto x: [-0.25  1.5 ]\n",
            "Ha(x)= [[-523.  100.]\n",
            " [ 100.  200.]]\n",
            "Hdf(x; h)= [[-523.05998395   99.97999655]\n",
            " [  99.97999655  199.99999097]]\n",
            "Norma= 0.06632005904773697\n",
            "\n",
            "\n",
            "Valor h: 0.0001\n",
            "Punto x: [1. 1.]\n",
            "Ha(x)= [[ 802. -400.]\n",
            " [-400.  200.]]\n",
            "Hdf(x; h)= [[ 802.240014 -400.02    ]\n",
            " [-400.02      200.      ]]\n",
            "Norma= 0.24167482336199914\n",
            "\n",
            "\n",
            "Valor h: 1e-05\n",
            "Punto x: [-1.5  2. ]\n",
            "Ha(x)= [[1902.  600.]\n",
            " [ 600.  200.]]\n",
            "Hdf(x; h)= [[1901.96402627  599.99800683]\n",
            " [ 599.99800683  199.99999878]]\n",
            "Norma= 0.03608399064933921\n",
            "\n",
            "\n",
            "Valor h: 1e-05\n",
            "Punto x: [-0.25  1.5 ]\n",
            "Ha(x)= [[-523.  100.]\n",
            " [ 100.  200.]]\n",
            "Hdf(x; h)= [[-523.00549669   99.99837403]\n",
            " [  99.99837403  200.00015866]]\n",
            "Norma= 0.005960397911606387\n",
            "\n",
            "\n",
            "Valor h: 1e-05\n",
            "Punto x: [1. 1.]\n",
            "Ha(x)= [[ 802. -400.]\n",
            " [-400.  200.]]\n",
            "Hdf(x; h)= [[ 802.02400015 -400.00200001]\n",
            " [-400.00200001  200.        ]]\n",
            "Norma= 0.024166244287936563\n",
            "\n",
            "\n"
          ]
        }
      ],
      "source": [
        "# Respuesta 3.2.\n",
        "\n",
        "for h in [0.001, 0.0001, 0.00001]:\n",
        "    for lamb in [0, 0.5, 1.0]:\n",
        "        x = np.array([-1.5,2]) + lamb * np.array([2.5, -1])\n",
        "        Hdf = HessDifFin(function, x, h)\n",
        "        print ('Valor h:', h)\n",
        "        print ('Punto x:', x)\n",
        "        print ('Ha(x)=', hessian(x))\n",
        "        print ('Hdf(x; h)=', Hdf)\n",
        "        print ('Norma=', np.linalg.norm(hessian(x)- Hdf))\n",
        "        print ('\\n')"
      ]
    },
    {
      "cell_type": "markdown",
      "source": [
        "Aquí podemos ver lo mismo que ocurrió con la aproximación del gradiente. Vemos que es una buena aproximación, sin embargo al tomar la norma de la diferencia no es tan pequeña."
      ],
      "metadata": {
        "id": "qlkGhrcts8QM"
      }
    }
  ],
  "metadata": {
    "kernelspec": {
      "display_name": "Python 3 (ipykernel)",
      "language": "python",
      "name": "python3"
    },
    "language_info": {
      "codemirror_mode": {
        "name": "ipython",
        "version": 3
      },
      "file_extension": ".py",
      "mimetype": "text/x-python",
      "name": "python",
      "nbconvert_exporter": "python",
      "pygments_lexer": "ipython3",
      "version": "3.9.7"
    },
    "colab": {
      "name": "optim_tarea03.ipynb",
      "provenance": [],
      "collapsed_sections": []
    }
  },
  "nbformat": 4,
  "nbformat_minor": 0
}