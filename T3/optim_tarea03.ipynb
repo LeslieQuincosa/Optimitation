{
 "cells": [
  {
   "cell_type": "markdown",
   "metadata": {},
   "source": [
    "# Curso de Optimización (DEMAT)\n",
    "## Tarea 3\n",
    "\n",
    "| Descripción:                         | Fechas               |\n",
    "|--------------------------------------|----------------------|\n",
    "| Fecha de publicación del documento:  | **Febrero 18, 2022** |\n",
    "| Fecha límite de entrega de la tarea: | **Febrero 27, 2022** |\n",
    "\n",
    "\n",
    "### Indicaciones\n",
    "\n",
    "Puede escribir el código de los algoritmos que se piden en una\n",
    "celda de este notebook o si lo prefiere, escribir las funciones\n",
    "en un archivo `.py` independiente e importar la funciones para\n",
    "usarlas en este notebook. Lo importante es que en el notebook\n",
    "aparezcan los resultados de la pruebas realizadas y que:\n",
    "\n",
    "- Si se requieren otros archivos para poder reproducir los resultados,\n",
    "  para mandar la tarea cree un archivo ZIP en el que incluya\n",
    "  el notebook y los archivos adicionales. \n",
    "- Si todos los códigos para que se requieren para reproducir los\n",
    "  resultados están en el notebook, no hace falta comprimirlo \n",
    "  y puede anexar sólo el notebook en la tarea del Classroom.\n",
    "- Exportar el notebook a un archivo PDF y anexarlo en la tarea del\n",
    "  Classroom como un archivo independiente.\n",
    "  **No lo incluya dentro del ZIP**, porque la idea que lo pueda accesar \n",
    "  directamente para poner anotaciones y la calificación de cada ejercicio.\n",
    "\n",
    "En la descripción de los ejercicios se nombran algunas variables\n",
    "para el algoritmo, pero sólo es para facilitar la descripción.\n",
    "En la implementación pueden nombrar sus variables como gusten.\n",
    "\n",
    "En los algoritmos se describen las entradas de las\n",
    "funciones. La intención es que tomen en cuenta lo que requiere\n",
    "el algoritmo y que tiene que haber parámetros que permitan\n",
    "controlar el comportamiento del algoritmo,\n",
    "evitando que dejen fijo un valor y que no se puede modificar\n",
    "para hacer diferentes pruebas. Si quieren dar esta información\n",
    "usando un tipo de dato que contenga todos los valores o\n",
    "usar variables por separado, etc., lo pueden hacer y no usen\n",
    "variables globales si no es necesario.\n",
    "\n",
    "Lo mismo para los valores que devuelve una función. \n",
    "Pueden codificar como gusten la manera en que regresa los cálculos.\n",
    "El punto es que podamos tener acceso a los resultados,\n",
    "sin usar variables globales, y que la función no sólo imprima \n",
    "los valores que después no los podamos usar.\n"
   ]
  },
  {
   "cell_type": "markdown",
   "metadata": {},
   "source": [
    "---\n",
    "\n",
    "## Ejercicio 1 (4 puntos)\n",
    "\n",
    "La función de Rosenbrock se define como \n",
    "\n",
    "$$ f(x_1, x_2) = 100\\left(x_2 − x_1^2 \\right)^2 + (1 − x_1)^2. $$\n",
    "\n",
    "1. Calcule las expresiones del gradiente y la Hessiana de la función de Rosenbrock.\n",
    "2. Escriba las funciones en Python que evaluan la función de Rosenbrock, su gradiente y Hessiana.\n",
    "3. Muestre que $x_* = (1,1)^{\\top}$ es el único punto estacionario de la función.\n",
    "4. Calcule los eigenvalores de la matriz Hessiana de $f$ en el punto $x_*$\n",
    "   para mostrar que es definida positiva, por lo que $x_*$ corresponde\n",
    "   a un mínimo.\n",
    "5. Grafique la función de Rosenbrock en el rectángulo $[-1.5, 1.5] \\times [-1, 2]$.\n",
    "   Use las funciones `surface()` e `imshow()` para generar la gráfica 3D y \n",
    "   la vista 2D.\n",
    "\n",
    "\n",
    "### Solución:"
   ]
  },
  {
   "cell_type": "markdown",
   "metadata": {},
   "source": [
    "# Respuesta 1.1. \n",
    "En esta celda puede escribir las expresiones del Punto 1 o agregar una imagen\n",
    "que tenga la respuesta\n",
    "\n",
    "\n",
    "\n"
   ]
  },
  {
   "cell_type": "code",
   "execution_count": null,
   "metadata": {},
   "outputs": [],
   "source": [
    "# Respuesta 1.2. En esta celda puede poner el código de las funciones\n",
    "\n",
    "\n",
    "\n"
   ]
  },
  {
   "cell_type": "code",
   "execution_count": null,
   "metadata": {},
   "outputs": [],
   "source": [
    "# Respuesta 1.3.\n"
   ]
  },
  {
   "cell_type": "code",
   "execution_count": 1,
   "metadata": {},
   "outputs": [],
   "source": [
    "# Respuesta 1.4.\n",
    "\n"
   ]
  },
  {
   "cell_type": "code",
   "execution_count": null,
   "metadata": {},
   "outputs": [],
   "source": [
    "# Respuesta 1.5.\n",
    "import numpy as np\n",
    "import matplotlib.pyplot as plt\n",
    "from mpl_toolkits import mplot3d\n",
    "\n",
    "\n",
    "\n"
   ]
  },
  {
   "cell_type": "markdown",
   "metadata": {},
   "source": [
    "_\n",
    "\n",
    "```\n",
    "\n",
    "\n",
    "\n",
    "\n",
    "\n",
    "\n",
    "\n",
    "```\n",
    "\n",
    "---"
   ]
  },
  {
   "cell_type": "markdown",
   "metadata": {},
   "source": [
    "## Ejercicio 2 (3 puntos)\n",
    "\n",
    "Programe la función que devuelve una aproximación del gradiente de una función\n",
    "en un punto particular usando diferencias finitas.\n",
    "\n",
    "1. La función que calcula la aproximación debe recibir como parámetros \n",
    "   una función escalar $f$, el punto $x$ y el incremento $h>0$.\n",
    "- Si $n$ es el tamaño del arreglo $x$, cree un arreglo de tamaño $n$\n",
    "  para almacenar las componentes de las aproximaciones del vector gradiente.\n",
    "  Para aproximar la $i$-ésima derivada parcial use\n",
    "\n",
    "$$ \\frac{\\partial f}{\\partial x_i}(x) \\approx\n",
    "\\frac{f(x + he_i) - f(x)}{h}, $$\n",
    "\n",
    "  donde $e_i$ es el $i$-ésimo vector canónico.\n",
    "\n",
    "2. Pruebe la función comparando el gradiente analítico de la función\n",
    "   de Rosenbrock en varios puntos y varios valores del parámetro $h$:\n",
    "   \n",
    "- Seleccione $h \\in \\{0.001, 0.0001, 0.00001 \\}$.\n",
    "\n",
    "- Tome $x = (-1.5,2) + \\lambda (2.5,-1)$ con $\\lambda \\in \\{0, 0.5, 1.0\\}$.\n",
    "  Imprima el valor $h$, el punto $x$, el gradiente $g_{a}(x)$ obtenido\n",
    "  con la función analítica programada en el Ejercicio 1, \n",
    "  el gradiente $g_{df}(x;h)$ obtenido por diferencias finitas y\n",
    "  la norma del vector $\\|g_{a}(x) - g_{df}(x;h)\\|$ (puede elegir la norma\n",
    "  que quiera usar).\n",
    "   \n",
    "\n",
    "### Solución:"
   ]
  },
  {
   "cell_type": "code",
   "execution_count": null,
   "metadata": {},
   "outputs": [],
   "source": [
    "# Respuesta 2.1.\n",
    "\n"
   ]
  },
  {
   "cell_type": "code",
   "execution_count": null,
   "metadata": {},
   "outputs": [],
   "source": [
    "# Respuesta 2.2.\n",
    "\n"
   ]
  },
  {
   "cell_type": "markdown",
   "metadata": {},
   "source": [
    "_\n",
    "\n",
    "```\n",
    "\n",
    "\n",
    "\n",
    "\n",
    "\n",
    "\n",
    "\n",
    "```\n",
    "\n",
    "---"
   ]
  },
  {
   "cell_type": "markdown",
   "metadata": {},
   "source": [
    "## Ejercicio 3 (3 puntos)\n",
    "\n",
    "Programe la función que devuelve una aproximación de la Hessiana de una función\n",
    "en un punto particular usando diferencias finitas.\n",
    "\n",
    "1. La función que calcula la aproximación debe recibir como parámetros \n",
    "   una función escalar $f$, el punto $x$ y el incremento $h>0$.\n",
    "- Si $n$ es el tamaño del arreglo $x$, cree una matriz de tamaño $n \\times n$\n",
    "  para almacenar las entradas de las aproximaciones de las segundas \n",
    "  derivadas parciales. Puede usar\n",
    "\n",
    "$$ \\frac{\\partial^2 f}{\\partial x_i \\partial x_j}(x) \\approx\n",
    "\\frac{f(x + he_i+he_j) - f(x+he_i)- f(x+he_j) + f(x)}{h^2}, $$\n",
    "\n",
    "  donde $e_i$ es el $i$-ésimo vector canónico.\n",
    "\n",
    "2. Pruebe la función comparando el gradiente analítico de la función\n",
    "   de Rosenbrock en varios puntos y varios valores del parámetro $h$:\n",
    "- Seleccione $h \\in \\{0.001, 0.0001, 0.00001 \\}$\n",
    "- Tome $x = (-1.5,2) + \\lambda (2.5,-1)$ con $\\lambda \\in \\{0, 0.5, 1.0\\}$\n",
    "  Imprima el valor $h$, el punto $x$, la Hessiana $H_{a}(x)$ obtenido\n",
    "  con la función analítica programada en el Ejercicio 1, \n",
    "  la Hessiana $H_{df}(x;h)$ obtenido por diferencias finitas y\n",
    "  la norma de la matriz $\\|H_{a}(x) - H_{df}(x;h)\\|$ (puede elegir la norma\n",
    "  que quiera usar).\n",
    "   "
   ]
  },
  {
   "cell_type": "code",
   "execution_count": null,
   "metadata": {},
   "outputs": [],
   "source": [
    "# Respuesta 3.1.\n",
    "\n"
   ]
  },
  {
   "cell_type": "code",
   "execution_count": null,
   "metadata": {},
   "outputs": [],
   "source": [
    "# Respuesta 3.2.\n",
    "\n"
   ]
  }
 ],
 "metadata": {
  "kernelspec": {
   "display_name": "Python 3 (ipykernel)",
   "language": "python",
   "name": "python3"
  },
  "language_info": {
   "codemirror_mode": {
    "name": "ipython",
    "version": 3
   },
   "file_extension": ".py",
   "mimetype": "text/x-python",
   "name": "python",
   "nbconvert_exporter": "python",
   "pygments_lexer": "ipython3",
   "version": "3.9.7"
  }
 },
 "nbformat": 4,
 "nbformat_minor": 4
}
