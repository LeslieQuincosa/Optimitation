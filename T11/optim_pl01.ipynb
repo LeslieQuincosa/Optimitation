{
 "cells": [
  {
   "cell_type": "markdown",
   "metadata": {
    "id": "Yb-d2HPw-uvg"
   },
   "source": [
    "# Ejemplos de programación lineal \n",
    "\n",
    "Ver la página \n",
    "\n",
    "https://realpython.com/linear-programming-python/\n",
    "\n",
    "Ver el ejemplo 1 de la clase 26\n"
   ]
  },
  {
   "cell_type": "markdown",
   "metadata": {
    "id": "ruPlAlvl6j6X"
   },
   "source": [
    "\n",
    "# Uso de la librería scipy\n",
    "\n"
   ]
  },
  {
   "cell_type": "code",
   "execution_count": 1,
   "metadata": {
    "colab": {
     "base_uri": "https://localhost:8080/"
    },
    "id": "ivnYFZ1yurjV",
    "outputId": "e58c14d9-d552-4a41-b6ea-46b1c638c9ea"
   },
   "outputs": [
    {
     "name": "stdout",
     "output_type": "stream",
     "text": [
      "\n",
      "Resultado del proceso: Optimization terminated successfully.\n",
      "Valor de la función objetivo: -13428.571428571428\n",
      "Solución:\n",
      " [2857.14285714 6571.42857143    0.        ]\n",
      "\n",
      "Variables de holgura:\n",
      " [  0.           0.         354.28571429]\n"
     ]
    }
   ],
   "source": [
    "from scipy.optimize import linprog\n",
    "import scipy\n",
    "\n",
    "# La función que vamos a utilizar resuelve un problema de minimización,\n",
    "# por lo que hay que cambiar de signo a los coeficientes de la función objetivo:\n",
    "\n",
    "# Coeficientes de la funcion objetivo\n",
    "obj = [-1.25, -1.5, -2.25]\n",
    "\n",
    "# Coeficientes del lado izquierdo de las desigualdades del tipo \"menor o igual a\"\n",
    "lhs_ineq = [[0.025, 0.05, 0.3],\n",
    "            [0.2, 0.05, 0.1],\n",
    "            [0.04, 0.02, 0.2]]\n",
    "\n",
    "# Coeficientes del vector del lado derecho de las desigualdades del tipo \"menor o igual a\"\n",
    "rhs_ineq = [400, 900, 600]\n",
    "\n",
    "\n",
    "# Cotas de las variables\n",
    "bnd = [(0, scipy.inf),  # cotas para x1\n",
    "       (0, scipy.inf),  # cotas para x2\n",
    "       (0, scipy.inf)]  # cotas para x3\n",
    "\n",
    "opt = linprog(c=obj, A_ub=lhs_ineq, b_ub=rhs_ineq, bounds=bnd,\n",
    "              method=\"simplex\")\n",
    "\n",
    "print('\\nResultado del proceso:', opt.message)\n",
    "if opt.success:\n",
    "    print('Valor de la función objetivo:', opt.fun)\n",
    "    print('Solución:\\n', opt.x)\n",
    "    print('\\nVariables de holgura:\\n', opt.slack)\n"
   ]
  },
  {
   "cell_type": "markdown",
   "metadata": {
    "id": "hf0qft6l6VEH"
   },
   "source": [
    "# Uso de la librería PULP"
   ]
  },
  {
   "cell_type": "code",
   "execution_count": null,
   "metadata": {
    "colab": {
     "base_uri": "https://localhost:8080/"
    },
    "id": "fFr7qs-TwIdM",
    "outputId": "bbce4330-6d72-4bf0-979b-40a2555f53bf"
   },
   "outputs": [],
   "source": [
    "pip install pulp"
   ]
  },
  {
   "cell_type": "code",
   "execution_count": 2,
   "metadata": {
    "colab": {
     "base_uri": "https://localhost:8080/"
    },
    "id": "EAXYEJ8fwJX4",
    "outputId": "dfd68fb1-f8f3-4aac-c16b-ffb174b85c86"
   },
   "outputs": [
    {
     "name": "stdout",
     "output_type": "stream",
     "text": [
      "small-problem:\n",
      "MAXIMIZE\n",
      "1.25*x1 + 1.5*x2 + 2.25*x3 + 0.0\n",
      "SUBJECT TO\n",
      "R1: 0.025 x1 + 0.05 x2 + 0.3 x3 <= 400\n",
      "\n",
      "R2: 0.2 x1 + 0.05 x2 + 0.1 x3 <= 900\n",
      "\n",
      "R3: 0.04 x1 + 0.02 x2 + 0.2 x3 <= 600\n",
      "\n",
      "VARIABLES\n",
      "x1 Continuous\n",
      "x2 Continuous\n",
      "x3 Continuous\n",
      "\n"
     ]
    }
   ],
   "source": [
    "from pulp import LpMaximize, LpProblem, LpStatus, lpSum, LpVariable\n",
    "\n",
    "# Creacción de una instancia de la  clase \n",
    "model = LpProblem(name=\"small-problem\", sense=LpMaximize)\n",
    "\n",
    "# Variables de decisión\n",
    "x1 = LpVariable(name=\"x1\", lowBound=0)\n",
    "x2 = LpVariable(name=\"x2\", lowBound=0)\n",
    "x3 = LpVariable(name=\"x3\", lowBound=0)\n",
    "\n",
    "# Se agregan las restricciones del modelo\n",
    "model += (0.025*x1 + 0.05*x2 + 0.30*x3 <= 400, \"R1\")\n",
    "model += (0.200*x1 + 0.05*x2 + 0.10*x3 <= 900, \"R2\")\n",
    "model += (0.040*x1 + 0.02*x2 + 0.20*x3 <= 600, \"R3\")\n",
    "\n",
    "# Función objetivo\n",
    "model += 1.25*x1 + 1.5*x2 + 2.25*x3\n",
    "\n",
    "print(model)\n"
   ]
  },
  {
   "cell_type": "code",
   "execution_count": 3,
   "metadata": {
    "colab": {
     "base_uri": "https://localhost:8080/"
    },
    "id": "pXzjL3dU8feK",
    "outputId": "3df673b4-aedc-47a5-a2c4-4c9d198a58bf"
   },
   "outputs": [
    {
     "name": "stdout",
     "output_type": "stream",
     "text": [
      "Resultado:  1  |  Optimal\n",
      "Valor de la funciónn objetivo:  13428.571525\n",
      "Solución:\n",
      "        x1: 2857.142900\n",
      "        x2: 6571.428600\n",
      "        x3: 0.000000\n",
      "\n",
      "Variables de holgura:\n",
      "        R1: 0.000002\n",
      "        R2: 0.000010\n",
      "        R3: -354.285712\n"
     ]
    }
   ],
   "source": [
    "# Cálculo de la solución\n",
    "status = model.solve()\n",
    "\n",
    "print(\"Resultado: \", model.status, \" | \", LpStatus[model.status])\n",
    "\n",
    "print(\"Valor de la funciónn objetivo: \" , model.objective.value())\n",
    "\n",
    "\n",
    "print('Solución:')\n",
    "for var in model.variables():\n",
    "    print(\"%10s: %f\"  % (var.name, var.value()) )\n",
    "\n",
    "print('\\nVariables de holgura:')\n",
    "for name, constraint in model.constraints.items():\n",
    "    print(\"%10s: %f\" % (name, constraint.value()) )\n",
    "\n"
   ]
  },
  {
   "cell_type": "code",
   "execution_count": null,
   "metadata": {
    "id": "qrvD7WGaC3_V"
   },
   "outputs": [],
   "source": []
  }
 ],
 "metadata": {
  "colab": {
   "name": "optim_pl01.ipynb",
   "provenance": []
  },
  "kernelspec": {
   "display_name": "tfp3_8",
   "language": "python",
   "name": "tfp3_8"
  },
  "language_info": {
   "codemirror_mode": {
    "name": "ipython",
    "version": 3
   },
   "file_extension": ".py",
   "mimetype": "text/x-python",
   "name": "python",
   "nbconvert_exporter": "python",
   "pygments_lexer": "ipython3",
   "version": "3.8.3"
  }
 },
 "nbformat": 4,
 "nbformat_minor": 4
}
