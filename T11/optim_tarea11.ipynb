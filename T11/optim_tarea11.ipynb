{
 "cells": [
  {
   "cell_type": "markdown",
   "id": "b3c3f434-ca6b-4101-8f9b-3ce30380b189",
   "metadata": {},
   "source": [
    "# Curso de Optimización (DEMAT)\n",
    "## Tarea 11\n",
    "\n",
    "| Descripción:                         | Fechas               |\n",
    "|--------------------------------------|----------------------|\n",
    "| Fecha de publicación del documento:  | **Mayo 13, 2022**    |\n",
    "| Fecha límite de entrega de la tarea: | **Mayo 22, 2022**    |\n",
    "\n",
    "\n",
    "### Indicaciones\n",
    "\n",
    "- Envie el notebook que contenga los códigos y las pruebas realizadas de cada ejercicio.\n",
    "- Si se requiren algunos scripts adicionales para poder reproducir las pruebas,\n",
    "  agreguelos en un ZIP junto con el notebook.\n",
    "- Genere un PDF del notebook y envielo por separado."
   ]
  },
  {
   "cell_type": "markdown",
   "id": "319ca661-2e48-4684-837e-4fd4c7289c02",
   "metadata": {},
   "source": [
    "---\n",
    "\n",
    "## Ejercicio 1 (3 puntos)\n",
    "\n",
    "Usando alguna librería de Python para resolver problemas de programación lineal, escriba y resuelva el problema de la Tarea 10:\n",
    "\n",
    "$$\n",
    "\\begin{array}{rl}\n",
    "\\max & x_1 + x_2\\\\\n",
    "     & 50x_1 + 24x_2 \\leq 2400 \\\\\n",
    "     & 30x_1 + 33x_2 \\leq 2100 \\\\\n",
    "     & x_1 \\geq 45 \\\\\n",
    "     & x_2 \\geq 5\n",
    "\\end{array}\n",
    "$$\n",
    "\n",
    "1. Cambie el problema para que todas las desigualdes sean de la forma \n",
    "\n",
    "$$\\mathbf{A}\\mathbf{x}\\leq \\mathbf{b}.$$\n",
    "\n",
    "2. Construya los vectores $\\mathbf{b},\\mathbf{c}$ y la matriz $\\mathbf{A}$ y resuelva el problema con la librería. \n",
    "\n",
    "3. Imprima un mensaje que indique si se encontró la solución, y en ese caso imprima  :\n",
    "- la solución $\\mathbf{x}$, \n",
    "- el valor de la función objetivo,\n",
    "- las variables de holgura,\n",
    "\n",
    "4. Calcule los errores\n",
    "\n",
    "$$ E_x = \\sum_{x_i<0} |x_i|. $$\n",
    "$$ E_{b-Ax} = \\sum_{(b-Ax)_i<0} |(b-Ax)_i|$$\n",
    "\n",
    "   Es decir, se suman las componentes de $\\mathbf{x}$ que no cumplen la condición\n",
    "   $\\mathbf{x}\\geq \\mathbf{0}$ y las componentes que no cumplen con $\\mathbf{A}\\mathbf{x}\\leq \\mathbf{b}$.\n",
    "\n",
    "5. Defina la tolerancia $\\tau=\\sqrt{\\epsilon_m}$, donde $\\epsilon_m$ es el \n",
    "   épsilon de la máquina.\n",
    "   Si $E_x<\\tau$ imprima un mensaje de que se cumple la condición de no negatividad, y si $E_{b-Ax}<\\tau$ imprima un mensaje de que se cumplen las restricciones de desigualdad.\n",
    "\n",
    "### Solución:"
   ]
  },
  {
   "cell_type": "code",
   "execution_count": null,
   "id": "8d017621-bdcc-45fe-aa01-21b8c49b2d61",
   "metadata": {},
   "outputs": [],
   "source": [
    "\n",
    "\n",
    "\n",
    "\n",
    "\n"
   ]
  },
  {
   "cell_type": "markdown",
   "id": "a25a495e-6c9e-4d85-a010-34c8ab3cef54",
   "metadata": {},
   "source": [
    "\n",
    "```\n",
    "\n",
    "\n",
    "\n",
    "```\n",
    "---\n"
   ]
  },
  {
   "cell_type": "markdown",
   "id": "8cd024a9-fac6-4e48-b657-ccd63b041fbf",
   "metadata": {},
   "source": [
    "\n",
    "## Ejercicio 2 (3 puntos)\n",
    "\n",
    "1. Escriba el problema anterior en su forma estándar.\n",
    "2. Construya los vectores $\\mathbf{b},\\mathbf{c}$ y la matriz $\\mathbf{A}$  y resuelva este problema con la librería. \n",
    "3. Imprima un mensaje que indique si se encontró la solución, y en ese caso imprima la solución, el valor de la función objetivo, las variables de holgura y el error\n",
    "\n",
    "$$ \\|\\mathbf{A}\\mathbf{x}-\\mathbf{b}\\|. $$\n",
    "\n",
    "4. Calcule el error $E_x$ como en el Ejercicio 1 y si $E_x<\\tau$ imprima un mensaje de que se cumple la condición de no negatividad.\n",
    "\n",
    "\n",
    "# Solución:"
   ]
  },
  {
   "cell_type": "code",
   "execution_count": null,
   "id": "6b09c3a1-e916-454f-99bf-d4a74fd996d1",
   "metadata": {},
   "outputs": [],
   "source": [
    "\n",
    "\n",
    "\n",
    "\n",
    "\n",
    "\n",
    "\n"
   ]
  },
  {
   "cell_type": "markdown",
   "id": "b32b59bf-2c9a-4178-93be-33d8961cf963",
   "metadata": {},
   "source": [
    "\n",
    "```\n",
    "\n",
    "\n",
    "\n",
    "```\n",
    "---\n"
   ]
  },
  {
   "cell_type": "markdown",
   "id": "0c9ecb0b-52d7-441a-9838-8d606148834f",
   "metadata": {},
   "source": [
    "\n",
    "## Ejercicio 3 (4 puntos)\n",
    "\n",
    "1. Escriba el problema dual del Ejercicio 2.\n",
    "2. Resuelva el problema dual con la librería. Esto debería devolver el vector $\\lambda$ que son los multiplicadores de Lagrange de la restricciones de igualdad del problema primal.\n",
    "3. Imprima un mensaje que indique si se encontró la solución, y de ser así, imprima $\\lambda$, el valor de la función objetivo y las variables de holgura.\n",
    "4. Usando el valor $\\mathbf{x}$ del Ejercicio 2, imprima el error relativo \n",
    "\n",
    "$$\\frac{|\\mathbf{c}^\\top\\mathbf{x} - \\mathbf{b}^\\top\\mathbf{\\lambda}|}\n",
    "{|\\mathbf{c}^\\top\\mathbf{x}|}.$$ \n",
    "\n",
    "4. Defina el vector $\\mathbf{s}$ como las variables de holgura.\n",
    "5. Programe una función que reciba los vectores $\\mathbf{b}, \\mathbf{c}$,\n",
    "   $\\mathbf{x}, \\lambda, \\mathbf{s}$, la matriz $\\mathbf{A}$ y una\n",
    "   tolerancia $\\tau$, y verique\n",
    "   que se cumplen las condiciones KKT:\n",
    "\n",
    "$$\n",
    "\\begin{array}{rclc}\n",
    "  \\mathbf{A}^\\top \\mathbf{\\lambda} + \\mathbf{s} &=& \\mathbf{c}, & (1) \\\\\n",
    "  \\mathbf{A}\\mathbf{x} &=& \\mathbf{b}, & (2) \\\\\n",
    "  \\mathbf{x} & \\geq & \\mathbf{0}, & (3)  \\\\\n",
    "  \\mathbf{s} & \\geq & \\mathbf{0}, & (4)  \\\\\n",
    "  x_i s_i &=& 0, \\qquad i=1,2,...,n. & (5)\n",
    "\\end{array}\n",
    "$$\n",
    "\n",
    "Calcule los errores $E_x$ y $E_{s}$ como en el Ejercicio 1, para saber que tanto se violan las restricciones $\\mathbf{x}\\geq \\mathbf{0}$  y $\\mathbf{s}\\geq \\mathbf{0}$.\n",
    "\n",
    "La función debe imprimir \n",
    "- El error $\\|\\mathbf{A}^\\top \\mathbf{\\lambda} + \\mathbf{s}- \\mathbf{c}\\|$.\n",
    "- El error $\\|\\mathbf{A}\\mathbf{x} - \\mathbf{b}\\|$.\n",
    "- Si $E_x<\\tau$, imprima que se cumple las restricciones de no negatividad de $\\mathbf{x}$.\n",
    "- Si $E_s<\\tau$, imprima que se cumple las restricciones de no negatividad de $\\mathbf{s}$.\n",
    "- Calcule el valor de la suma $\\sum_i |x_i s_i|$ y si es menor que $\\tau$, imprima \n",
    "  un mensaje que indique que se cumple la condición de complementariedad.\n",
    "  \n",
    "6. Use la función anterior en el problema para reportar los resultados.\n",
    "\n",
    "\n",
    "> **Nota**: En el problema dual las variables en $\\lambda$ no tienen restricciones de cota. Si usa, por ejemplo, la función `linprog` para resolver el problema, ponga explícitamente que las cotas de las variables son $-\\infty$ e $\\infty$ para que la función no use las cotas que tiene fijas de manera predeterminada.\n"
   ]
  },
  {
   "cell_type": "code",
   "execution_count": null,
   "id": "1cd3ab01-0492-409c-b703-3ff137d4f251",
   "metadata": {},
   "outputs": [],
   "source": []
  }
 ],
 "metadata": {
  "kernelspec": {
   "display_name": "tfp3_8",
   "language": "python",
   "name": "tfp3_8"
  },
  "language_info": {
   "codemirror_mode": {
    "name": "ipython",
    "version": 3
   },
   "file_extension": ".py",
   "mimetype": "text/x-python",
   "name": "python",
   "nbconvert_exporter": "python",
   "pygments_lexer": "ipython3",
   "version": "3.8.11"
  }
 },
 "nbformat": 4,
 "nbformat_minor": 5
}
