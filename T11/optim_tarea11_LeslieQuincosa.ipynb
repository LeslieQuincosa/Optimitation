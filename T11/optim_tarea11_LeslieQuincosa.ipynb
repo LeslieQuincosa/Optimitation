{
  "cells": [
    {
      "cell_type": "markdown",
      "id": "b3c3f434-ca6b-4101-8f9b-3ce30380b189",
      "metadata": {
        "id": "b3c3f434-ca6b-4101-8f9b-3ce30380b189"
      },
      "source": [
        "# Curso de Optimización (DEMAT)\n",
        "## Tarea 11\n",
        "## Leslie Janeth Quincosa Ramírez\n",
        "\n",
        "| Descripción:                         | Fechas               |\n",
        "|--------------------------------------|----------------------|\n",
        "| Fecha de publicación del documento:  | **Mayo 13, 2022**    |\n",
        "| Fecha límite de entrega de la tarea: | **Mayo 22, 2022**    |\n",
        "\n",
        "\n",
        "### Indicaciones\n",
        "\n",
        "- Envie el notebook que contenga los códigos y las pruebas realizadas de cada ejercicio.\n",
        "- Si se requiren algunos scripts adicionales para poder reproducir las pruebas,\n",
        "  agreguelos en un ZIP junto con el notebook.\n",
        "- Genere un PDF del notebook y envielo por separado."
      ]
    },
    {
      "cell_type": "markdown",
      "id": "319ca661-2e48-4684-837e-4fd4c7289c02",
      "metadata": {
        "id": "319ca661-2e48-4684-837e-4fd4c7289c02"
      },
      "source": [
        "---\n",
        "\n",
        "## Ejercicio 1 (3 puntos)\n",
        "\n",
        "Usando alguna librería de Python para resolver problemas de programación lineal, escriba y resuelva el problema de la Tarea 10:\n",
        "\n",
        "$$\n",
        "\\begin{array}{rl}\n",
        "\\max & x_1 + x_2\\\\\n",
        "     & 50x_1 + 24x_2 \\leq 2400 \\\\\n",
        "     & 30x_1 + 33x_2 \\leq 2100 \\\\\n",
        "     & x_1 \\geq 45 \\\\\n",
        "     & x_2 \\geq 5\n",
        "\\end{array}\n",
        "$$\n",
        "\n",
        "1. Cambie el problema para que todas las desigualdes sean de la forma \n",
        "\n",
        "$$\\mathbf{A}\\mathbf{x}\\leq \\mathbf{b}.$$\n",
        "\n",
        "2. Construya los vectores $\\mathbf{b},\\mathbf{c}$ y la matriz $\\mathbf{A}$ y resuelva el problema con la librería. \n",
        "\n",
        "3. Imprima un mensaje que indique si se encontró la solución, y en ese caso imprima  :\n",
        "- la solución $\\mathbf{x}$, \n",
        "- el valor de la función objetivo,\n",
        "- las variables de holgura,\n",
        "\n",
        "4. Calcule los errores\n",
        "\n",
        "$$ E_x = \\sum_{x_i<0} |x_i|. $$\n",
        "$$ E_{b-Ax} = \\sum_{(b-Ax)_i<0} |(b-Ax)_i|$$\n",
        "\n",
        "   Es decir, se suman las componentes de $\\mathbf{x}$ que no cumplen la condición\n",
        "   $\\mathbf{x}\\geq \\mathbf{0}$ y las componentes que no cumplen con $\\mathbf{A}\\mathbf{x}\\leq \\mathbf{b}$.\n",
        "\n",
        "5. Defina la tolerancia $\\tau=\\sqrt{\\epsilon_m}$, donde $\\epsilon_m$ es el \n",
        "   épsilon de la máquina.\n",
        "   Si $E_x<\\tau$ imprima un mensaje de que se cumple la condición de no negatividad, y si $E_{b-Ax}<\\tau$ imprima un mensaje de que se cumplen las restricciones de desigualdad.\n",
        "\n",
        "### Solución:"
      ]
    },
    {
      "cell_type": "code",
      "source": [
        "pip install pulp"
      ],
      "metadata": {
        "colab": {
          "base_uri": "https://localhost:8080/"
        },
        "id": "mvcYGMrRI5bL",
        "outputId": "c8713dd0-9e91-4f4b-865e-7336a3c21a59"
      },
      "id": "mvcYGMrRI5bL",
      "execution_count": 75,
      "outputs": [
        {
          "output_type": "stream",
          "name": "stdout",
          "text": [
            "Requirement already satisfied: pulp in /usr/local/lib/python3.7/dist-packages (2.6.0)\n"
          ]
        }
      ]
    },
    {
      "cell_type": "code",
      "source": [
        "from scipy.optimize import linprog\n",
        "import scipy\n",
        "import numpy as np\n",
        "import sys\n"
      ],
      "metadata": {
        "id": "08e_5D3-In9e"
      },
      "id": "08e_5D3-In9e",
      "execution_count": 76,
      "outputs": []
    },
    {
      "cell_type": "code",
      "source": [
        "#Coficientes de la función a minimizar\n",
        "c = np.array([-1, -1, 0, 0, 0, 0 ]) \n",
        "\n",
        "#Restricciones\n",
        "b = np.array([2400, 2100, 45, 5])\n",
        "A = np.array([[50, 24, 1, 0, 0, 0],\n",
        "              [30, 33, 0, 1, 0, 0],\n",
        "              [ 1,  0, 0, 0,-1, 0],\n",
        "              [ 0,  1, 0, 0, 0,-1] ])\n",
        "\n",
        "from pulp import LpMaximize, LpProblem, LpStatus, lpSum, LpVariable\n",
        "\n",
        "# Creacción de una instancia de la  clase \n",
        "model = LpProblem(name=\"small-problem\", sense=LpMaximize)\n",
        "\n",
        "# Variables de decisión\n",
        "x1 = LpVariable(name=\"x1\", lowBound=45)\n",
        "x2 = LpVariable(name=\"x2\", lowBound=5)\n",
        "\n",
        "# Se agregan las restricciones del modelo\n",
        "model += (50*x1 + 24*x2 <= 2400, \"R1\")\n",
        "model += (30*x1 + 33*x2  <= 2100, \"R2\")\n",
        "\n",
        "\n",
        "# Función objetivo\n",
        "model += x1 + x2\n",
        "\n",
        "print(model)\n"
      ],
      "metadata": {
        "colab": {
          "base_uri": "https://localhost:8080/"
        },
        "id": "HkjXZ3gsIfiT",
        "outputId": "870f3f0b-265b-439c-fff0-92fdd35de043"
      },
      "id": "HkjXZ3gsIfiT",
      "execution_count": 77,
      "outputs": [
        {
          "output_type": "stream",
          "name": "stdout",
          "text": [
            "small-problem:\n",
            "MAXIMIZE\n",
            "1*x1 + 1*x2 + 0\n",
            "SUBJECT TO\n",
            "R1: 50 x1 + 24 x2 <= 2400\n",
            "\n",
            "R2: 30 x1 + 33 x2 <= 2100\n",
            "\n",
            "VARIABLES\n",
            "45 <= x1 Continuous\n",
            "5 <= x2 Continuous\n",
            "\n"
          ]
        }
      ]
    },
    {
      "cell_type": "code",
      "source": [
        "# Cálculo de la solución\n",
        "status = model.solve()\n",
        "\n",
        "print(\"Resultado: \", model.status, \" | \", LpStatus[model.status])\n",
        "\n",
        "print(\"Valor de la funciónn objetivo: \" , model.objective.value())\n",
        "\n",
        "\n",
        "print('Solución:')\n",
        "for var in model.variables():\n",
        "    print(\"%10s: %f\"  % (var.name, var.value()) )\n",
        "\n",
        "print('\\nVariables de holgura:')\n",
        "for name, constraint in model.constraints.items():\n",
        "    print(\"%10s: %f\" % (name, constraint.value()) )\n"
      ],
      "metadata": {
        "colab": {
          "base_uri": "https://localhost:8080/"
        },
        "id": "55cwUVqTIltO",
        "outputId": "34afd50a-6497-4b57-9907-0c8f624dec3a"
      },
      "id": "55cwUVqTIltO",
      "execution_count": 78,
      "outputs": [
        {
          "output_type": "stream",
          "name": "stdout",
          "text": [
            "Resultado:  1  |  Optimal\n",
            "Valor de la funciónn objetivo:  51.25\n",
            "Solución:\n",
            "        x1: 45.000000\n",
            "        x2: 6.250000\n",
            "\n",
            "Variables de holgura:\n",
            "        R1: 0.000000\n",
            "        R2: -543.750000\n"
          ]
        }
      ]
    },
    {
      "cell_type": "code",
      "execution_count": 79,
      "id": "8d017621-bdcc-45fe-aa01-21b8c49b2d61",
      "metadata": {
        "colab": {
          "base_uri": "https://localhost:8080/"
        },
        "id": "8d017621-bdcc-45fe-aa01-21b8c49b2d61",
        "outputId": "14fd1cf6-35a5-428f-fc5c-cc90c7ed41b7"
      },
      "outputs": [
        {
          "output_type": "stream",
          "name": "stdout",
          "text": [
            "\n",
            "Resultado del proceso: Optimization terminated successfully.\n",
            "Valor de la función objetivo: -51.25\n",
            "Solución:\n",
            " [45.    6.25]\n",
            "\n",
            "Variables de holgura:\n",
            " [  0.   543.75]\n"
          ]
        }
      ],
      "source": [
        "\n",
        "# La función que vamos a utilizar resuelve un problema de minimización,\n",
        "# por lo que hay que cambiar de signo a los coeficientes de la función objetivo:\n",
        "\n",
        "# Coeficientes de la funcion objetivo\n",
        "obj = [-1, -1]\n",
        "\n",
        "# Coeficientes del lado izquierdo de las desigualdades del tipo \"menor o igual a\"\n",
        "lhs_ineq = [[50, 24],\n",
        "            [30, 33]]\n",
        "\n",
        "A = np.array([[50, 24],[30, 33]])\n",
        "\n",
        "# Coeficientes del vector del lado derecho de las desigualdades del tipo \"menor o igual a\"\n",
        "rhs_ineq = [2400, 2100]\n",
        "b = np.array([2400, 2100])\n",
        "\n",
        "# Cotas de las variables\n",
        "bnd = [(45, scipy.inf),  # cotas para x1\n",
        "       (5, scipy.inf)]  # cotas para x2\n",
        "\n",
        "opt = linprog(c=obj, A_ub=lhs_ineq, b_ub=rhs_ineq, bounds=bnd, method=\"simplex\")\n",
        "\n",
        "print('\\nResultado del proceso:', opt.message)\n",
        "if opt.success:\n",
        "    print('Valor de la función objetivo:', opt.fun)\n",
        "    print('Solución:\\n', opt.x)\n",
        "    print('\\nVariables de holgura:\\n', opt.slack)\n",
        "\n",
        "\n"
      ]
    },
    {
      "cell_type": "code",
      "source": [
        "#Calcular el error\n",
        "eps = sys.float_info.epsilon\n",
        "tol = eps**(1/2)\n",
        "\n",
        "\n",
        "Error_x = 0\n",
        "for i in range(len(opt.x)):\n",
        "  if opt.x[i] < 0:\n",
        "    Error_x = Error_x + np.absolute(opt.x[i])\n",
        "print('Error_x:', Error_x)\n",
        "if Error_x < tol:\n",
        "  print('Se cumple la condición de no negatividad')\n",
        "\n",
        "Error_bAx = 0\n",
        "for i in range(len(opt.x)):\n",
        "  if (b - A@opt.x)[i] < 0:\n",
        "    Error_bAx = Error_bAx + np.absolute((b - A@opt.x)[i])\n",
        "print('Error_b-Ax:', Error_bAx)\n",
        "\n",
        "if Error_bAx < tol:\n",
        "  print('se cumplen las restricciones de desigualdad')\n",
        "\n",
        "\n",
        "\n"
      ],
      "metadata": {
        "colab": {
          "base_uri": "https://localhost:8080/"
        },
        "id": "71kMG7OSwOfm",
        "outputId": "981a405b-8736-4e9f-e4ff-3a637e3e9283"
      },
      "id": "71kMG7OSwOfm",
      "execution_count": 80,
      "outputs": [
        {
          "output_type": "stream",
          "name": "stdout",
          "text": [
            "Error_x: 0\n",
            "Se cumple la condición de no negatividad\n",
            "Error_b-Ax: 0\n",
            "se cumplen las restricciones de desigualdad\n"
          ]
        }
      ]
    },
    {
      "cell_type": "markdown",
      "source": [
        "En este ejercicio implemente ambas librerías: pulp y scipy"
      ],
      "metadata": {
        "id": "jTFTEmXVaUBw"
      },
      "id": "jTFTEmXVaUBw"
    },
    {
      "cell_type": "markdown",
      "id": "8cd024a9-fac6-4e48-b657-ccd63b041fbf",
      "metadata": {
        "id": "8cd024a9-fac6-4e48-b657-ccd63b041fbf"
      },
      "source": [
        "\n",
        "## Ejercicio 2 (3 puntos)\n",
        "\n",
        "1. Escriba el problema anterior en su forma estándar.\n",
        "2. Construya los vectores $\\mathbf{b},\\mathbf{c}$ y la matriz $\\mathbf{A}$  y resuelva este problema con la librería. \n",
        "3. Imprima un mensaje que indique si se encontró la solución, y en ese caso imprima la solución, el valor de la función objetivo, las variables de holgura y el error\n",
        "\n",
        "$$ \\|\\mathbf{A}\\mathbf{x}-\\mathbf{b}\\|. $$\n",
        "\n",
        "4. Calcule el error $E_x$ como en el Ejercicio 1 y si $E_x<\\tau$ imprima un mensaje de que se cumple la condición de no negatividad.\n",
        "\n",
        "\n",
        "# Solución:"
      ]
    },
    {
      "cell_type": "markdown",
      "source": [
        ""
      ],
      "metadata": {
        "id": "H7ozYDB744Oo"
      },
      "id": "H7ozYDB744Oo"
    },
    {
      "cell_type": "markdown",
      "source": [
        "Forma estándar:\n",
        "\n",
        "$$\n",
        "\\begin{array}{rl}\n",
        "\\min & -x_1 - x_2\\\\\n",
        "     & 50x_1 + 24x_2 + x_3 =  2400 \\\\\n",
        "     & 30x_1 + 33x_2 + x_4 =  2100 \\\\\n",
        "     & x_1 - x_5 = 45 \\\\\n",
        "     & x_2 - x_6 =  5 \\\\\n",
        "     & x_1, x_2, x_3, x_4, x_5, x_6 \\geq 0\n",
        "\\end{array}\n",
        "$$\n"
      ],
      "metadata": {
        "id": "J_5kP3pOIISV"
      },
      "id": "J_5kP3pOIISV"
    },
    {
      "cell_type": "code",
      "source": [
        ""
      ],
      "metadata": {
        "id": "nvrXm2F_KvTM"
      },
      "id": "nvrXm2F_KvTM",
      "execution_count": 80,
      "outputs": []
    },
    {
      "cell_type": "code",
      "source": [
        "#Coficientes de la función a minimizar\n",
        "c = np.array([-1, -1, 0, 0, 0, 0 ])\n",
        "\n",
        "#Restricciones\n",
        "b = np.array([2400, 2100, 45, 5])\n",
        "\n",
        "A = np.array([[50, 24, 1, 0, 0, 0],\n",
        "              [30, 33, 0, 1, 0, 0],\n",
        "              [ 1,  0, 0, 0,-1, 0],\n",
        "              [ 0,  1, 0, 0, 0,-1] ])  \n",
        "    \n",
        "# Cotas de las variables\n",
        "bnd = (0, None)\n",
        "\n",
        "opt = linprog(c = c, A_eq = A, b_eq = b, bounds=bnd, method=\"simplex\")\n",
        "\n",
        "print('\\nResultado del proceso:', opt.message)\n",
        "if opt.success:\n",
        "    print('¡Se encontró la solución!')\n",
        "    print('Valor de la función objetivo:', opt.fun)\n",
        "    print('Solución:\\n', opt.x)\n",
        "    print('\\nVariables de holgura:\\n', opt.slack)\n",
        "    print('|| Ax - b||: ', np.linalg.norm(A@opt.x - b))\n",
        "\n",
        "xval = opt.x\n",
        "print(xval)\n",
        "Error_x = 0\n",
        "for i in range(len(opt.x)):\n",
        "  if opt.x[i] < 0:\n",
        "    Error_x = Error_x + np.absolute(opt.x[i])\n",
        "print('Error_x:', Error_x)\n",
        "if Error_x < tol:\n",
        "  print('Se cumple la condición de no negatividad')\n"
      ],
      "metadata": {
        "colab": {
          "base_uri": "https://localhost:8080/"
        },
        "id": "eGpUD3pSnyve",
        "outputId": "74a06e8a-cb6d-4571-97bd-54bc579b9a9a"
      },
      "id": "eGpUD3pSnyve",
      "execution_count": 81,
      "outputs": [
        {
          "output_type": "stream",
          "name": "stdout",
          "text": [
            "\n",
            "Resultado del proceso: Optimization terminated successfully.\n",
            "¡Se encontró la solución!\n",
            "Valor de la función objetivo: -51.25\n",
            "Solución:\n",
            " [ 45.     6.25   0.   543.75   0.     1.25]\n",
            "\n",
            "Variables de holgura:\n",
            " []\n",
            "|| Ax - b||:  3.552713678800501e-15\n",
            "[ 45.     6.25   0.   543.75   0.     1.25]\n",
            "Error_x: 0\n",
            "Se cumple la condición de no negatividad\n"
          ]
        }
      ]
    },
    {
      "cell_type": "markdown",
      "id": "b32b59bf-2c9a-4178-93be-33d8961cf963",
      "metadata": {
        "id": "b32b59bf-2c9a-4178-93be-33d8961cf963"
      },
      "source": [
        "\n",
        "```\n",
        "\n",
        "\n",
        "\n",
        "```\n",
        "---\n"
      ]
    },
    {
      "cell_type": "markdown",
      "id": "0c9ecb0b-52d7-441a-9838-8d606148834f",
      "metadata": {
        "id": "0c9ecb0b-52d7-441a-9838-8d606148834f"
      },
      "source": [
        "\n",
        "## Ejercicio 3 (4 puntos)\n",
        "\n",
        "1. Escriba el problema dual del Ejercicio 2.\n",
        "2. Resuelva el problema dual con la librería. Esto debería devolver el vector $\\lambda$ que son los multiplicadores de Lagrange de la restricciones de igualdad del problema primal.\n",
        "3. Imprima un mensaje que indique si se encontró la solución, y de ser así, imprima $\\lambda$, el valor de la función objetivo y las variables de holgura.\n",
        "4. Usando el valor $\\mathbf{x}$ del Ejercicio 2, imprima el error relativo \n",
        "\n",
        "$$\\frac{|\\mathbf{c}^\\top\\mathbf{x} - \\mathbf{b}^\\top\\mathbf{\\lambda}|}\n",
        "{|\\mathbf{c}^\\top\\mathbf{x}|}.$$ \n",
        "\n",
        "4. Defina el vector $\\mathbf{s}$ como las variables de holgura.\n",
        "5. Programe una función que reciba los vectores $\\mathbf{b}, \\mathbf{c}$,\n",
        "   $\\mathbf{x}, \\lambda, \\mathbf{s}$, la matriz $\\mathbf{A}$ y una\n",
        "   tolerancia $\\tau$, y verique\n",
        "   que se cumplen las condiciones KKT:\n",
        "\n",
        "$$\n",
        "\\begin{array}{rclc}\n",
        "  \\mathbf{A}^\\top \\mathbf{\\lambda} + \\mathbf{s} &=& \\mathbf{c}, & (1) \\\\\n",
        "  \\mathbf{A}\\mathbf{x} &=& \\mathbf{b}, & (2) \\\\\n",
        "  \\mathbf{x} & \\geq & \\mathbf{0}, & (3)  \\\\\n",
        "  \\mathbf{s} & \\geq & \\mathbf{0}, & (4)  \\\\\n",
        "  x_i s_i &=& 0, \\qquad i=1,2,...,n. & (5)\n",
        "\\end{array}\n",
        "$$\n",
        "\n",
        "Calcule los errores $E_x$ y $E_{s}$ como en el Ejercicio 1, para saber que tanto se violan las restricciones $\\mathbf{x}\\geq \\mathbf{0}$  y $\\mathbf{s}\\geq \\mathbf{0}$.\n",
        "\n",
        "La función debe imprimir \n",
        "- El error $\\|\\mathbf{A}^\\top \\mathbf{\\lambda} + \\mathbf{s}- \\mathbf{c}\\|$.\n",
        "- El error $\\|\\mathbf{A}\\mathbf{x} - \\mathbf{b}\\|$.\n",
        "- Si $E_x<\\tau$, imprima que se cumple las restricciones de no negatividad de $\\mathbf{x}$.\n",
        "- Si $E_s<\\tau$, imprima que se cumple las restricciones de no negatividad de $\\mathbf{s}$.\n",
        "- Calcule el valor de la suma $\\sum_i |x_i s_i|$ y si es menor que $\\tau$, imprima \n",
        "  un mensaje que indique que se cumple la condición de complementariedad.\n",
        "  \n",
        "6. Use la función anterior en el problema para reportar los resultados.\n",
        "\n",
        "\n",
        "> **Nota**: En el problema dual las variables en $\\lambda$ no tienen restricciones de cota. Si usa, por ejemplo, la función `linprog` para resolver el problema, ponga explícitamente que las cotas de las variables son $-\\infty$ e $\\infty$ para que la función no use las cotas que tiene fijas de manera predeterminada.\n"
      ]
    },
    {
      "cell_type": "markdown",
      "source": [
        "Primero escribamos el problema primal, del ejercicio 2.\n",
        "\n",
        "$$\n",
        "\\begin{array}{rl}\n",
        "\\max & x_1 + x_2\\\\\n",
        "     & 50x_1 + 24x_2 \\leq 2400 \\\\\n",
        "     & 30x_1 + 33x_2 \\leq 2100 \\\\\n",
        "     & x_1 \\geq 45 \\\\\n",
        "     & x_2 \\geq 5\n",
        "\\end{array}\n",
        "$$\n",
        "\n",
        "Enotonces, el problema dual es\n",
        "\n",
        "$$\n",
        "\\begin{array}{rl}\n",
        "\\max & 2400 \\lambda_1  + 2100 \\lambda_2 + 45 \\lambda_3 + 5 \\lambda_4 \\\\\n",
        "     & 50 \\lambda_1 + 30 \\lambda_2 - λ_3  \\leq 1\\\\\n",
        "     & 24 \\lambda_1 + 33 \\lambda_2 - λ_4 \\leq 1 \\\\\n",
        "     & \\lambda_1 \\geq 0, \\lambda_2 \\geq 0, \\lambda_3 \\geq 0, \\lambda_4 \\geq 0\\\\\n",
        "\\end{array}\n",
        "$$\n",
        "\n",
        "Problema estándar del dual\n",
        "\n",
        "$$\n",
        "\\begin{array}{rl}\n",
        "\\min & -2400 \\lambda_1  - 2100 \\lambda_2 - 45 \\lambda_3 - 5 \\lambda_4 \\\\\n",
        "     & 50 \\lambda_1 + 30 \\lambda_2 + λ_3 = 1\\\\\n",
        "     & 24 \\lambda_1 + 33 \\lambda_2 + λ_4  = 1 \\\\\n",
        "     & \\lambda_1 \\geq 0, \\lambda_2 \\geq 0, \\lambda_3 \\leq 0, \\lambda_4 \\leq 0\n",
        "\\end{array}\n",
        "$$\n"
      ],
      "metadata": {
        "id": "0fJ6WpIg5A5I"
      },
      "id": "0fJ6WpIg5A5I"
    },
    {
      "cell_type": "code",
      "execution_count": 82,
      "id": "1cd3ab01-0492-409c-b703-3ff137d4f251",
      "metadata": {
        "id": "1cd3ab01-0492-409c-b703-3ff137d4f251",
        "colab": {
          "base_uri": "https://localhost:8080/"
        },
        "outputId": "d4f4e80d-a53f-48ad-aefe-d385e8456113"
      },
      "outputs": [
        {
          "output_type": "stream",
          "name": "stdout",
          "text": [
            "\n",
            "Resultado del proceso: Optimization terminated successfully.\n",
            "¡Se encontró la solución!\n",
            "Valor de la función objetivo: 51.25000000631624\n",
            "Solución del vector lambda:\n",
            " [-4.16666667e-02 -3.26266209e-13  1.08333333e+00  4.25959588e-11]\n",
            "\n",
            "Variables de holgura:\n",
            " [1.21579635e-10 9.83173543e-11 4.16666667e-02 3.26266209e-13\n",
            " 1.08333333e+00 4.25959588e-11]\n"
          ]
        },
        {
          "output_type": "stream",
          "name": "stderr",
          "text": [
            "/usr/local/lib/python3.7/dist-packages/numpy/core/fromnumeric.py:86: VisibleDeprecationWarning: Creating an ndarray from ragged nested sequences (which is a list-or-tuple of lists-or-tuples-or ndarrays with different lengths or shapes) is deprecated. If you meant to do this, you must specify 'dtype=object' when creating the ndarray.\n",
            "  return ufunc.reduce(obj, axis, dtype, out, **passkwargs)\n"
          ]
        }
      ],
      "source": [
        "#Coficientes de la función a minimizar\n",
        "b = np.array([2400, 2100, 45, 5])\n",
        "\n",
        "#Restricciones\n",
        "c = np.array([-1, -1, 0, 0, 0, 0 ])\n",
        "\n",
        "A = np.array([[50, 24, 1, 0, 0, 0],\n",
        "              [30, 33, 0, 1, 0, 0],\n",
        "              [ 1,  0, 0, 0,-1, 0],\n",
        "              [ 0,  1, 0, 0, 0,-1]])\n",
        "\n",
        "# Cotas de las variables\n",
        "bnd = (None, None)\n",
        "\n",
        "\n",
        "opt = linprog(c = -b, A_ub = A.T, b_ub= c, bounds=bnd)\n",
        "\n",
        "print('\\nResultado del proceso:', opt.message)\n",
        "if opt.success:\n",
        "    print('¡Se encontró la solución!')\n",
        "    print('Valor de la función objetivo:', opt.fun)\n",
        "    print('Solución del vector lambda:\\n', opt.x)\n",
        "    print('\\nVariables de holgura:\\n', opt.slack)\n",
        "\n",
        "lam = opt.x\n",
        "s = opt.slack"
      ]
    },
    {
      "cell_type": "code",
      "source": [
        "print('Error relativo: ', np.absolute(c.T@ xval - b.T@lam)/np.absolute(c.T@xval))\n"
      ],
      "metadata": {
        "colab": {
          "base_uri": "https://localhost:8080/"
        },
        "id": "nNWh44tBM9tN",
        "outputId": "05e6c2a5-6141-48ca-cbb3-ca21cd8ba703"
      },
      "id": "nNWh44tBM9tN",
      "execution_count": 83,
      "outputs": [
        {
          "output_type": "stream",
          "name": "stdout",
          "text": [
            "Error relativo:  1.2324374149945314e-10\n"
          ]
        }
      ]
    },
    {
      "cell_type": "code",
      "source": [
        "def condicionesKKT(b, c, x, lamb, s, A, tol):\n",
        "  for i in range(len(x)):\n",
        "    if x[i]*s[i] < tol:\n",
        "      print(\"Se cumple x[\", i, \"] * s[\", i, \"] = 0\")\n",
        "    else:\n",
        "      print(\"No se cumple x[\", i, \"] * s[\", i, \"] = 0\")\n",
        "  Error_x = 0\n",
        "  for i in range(len(x)):\n",
        "    if x[i] < 0:\n",
        "      Error_x = Error_x + np.absolute(x[i])\n",
        "  print('Error_x:', Error_x)\n",
        "  if Error_x < tol:\n",
        "    print('Se cumple la condición de no negatividad de x')\n",
        "  Error_s = 0\n",
        "  for i in range(len(s)):\n",
        "    if s[i] < 0:\n",
        "      Error_s = Error_s + np.absolute(s[i])\n",
        "    print('Se cumple la condición de no negatividad de s')\n",
        "  print('Error_s:', Error_s)\n",
        "  print(\"Error ||AT*lamb + s -c||:\",  np.linalg.norm(A.T@lamb + s - c) )\n",
        "  print(\"Error ||Ax - b||:\",  np.linalg.norm(A@x - b))\n",
        "  Suma_xs = 0\n",
        "  for i in range(len(s)):\n",
        "    Suma_xs = Suma_xs + np.absolute(x[i]*s[i])\n",
        "  if Suma_xs < tol:\n",
        "    print('Se cumple la condición de complementariedad')"
      ],
      "metadata": {
        "id": "vtAjoQxpMto3"
      },
      "id": "vtAjoQxpMto3",
      "execution_count": 84,
      "outputs": []
    },
    {
      "cell_type": "code",
      "source": [
        "eps = sys.float_info.epsilon\n",
        "tol = eps**(1/2)\n",
        "\n",
        "condicionesKKT(b, c, xval, lam, s, A, tol)"
      ],
      "metadata": {
        "colab": {
          "base_uri": "https://localhost:8080/"
        },
        "id": "EZGotu9TPg7h",
        "outputId": "e3947a37-cb4f-4b90-ac9d-e899ad4fed38"
      },
      "id": "EZGotu9TPg7h",
      "execution_count": 85,
      "outputs": [
        {
          "output_type": "stream",
          "name": "stdout",
          "text": [
            "Se cumple x[ 0 ] * s[ 0 ] = 0\n",
            "Se cumple x[ 1 ] * s[ 1 ] = 0\n",
            "Se cumple x[ 2 ] * s[ 2 ] = 0\n",
            "Se cumple x[ 3 ] * s[ 3 ] = 0\n",
            "Se cumple x[ 4 ] * s[ 4 ] = 0\n",
            "Se cumple x[ 5 ] * s[ 5 ] = 0\n",
            "Error_x: 0\n",
            "Se cumple la condición de no negatividad de x\n",
            "Se cumple la condición de no negatividad de s\n",
            "Se cumple la condición de no negatividad de s\n",
            "Se cumple la condición de no negatividad de s\n",
            "Se cumple la condición de no negatividad de s\n",
            "Se cumple la condición de no negatividad de s\n",
            "Se cumple la condición de no negatividad de s\n",
            "Error_s: 0\n",
            "Error ||AT*lamb + s -c||: 0.0\n",
            "Error ||Ax - b||: 3.552713678800501e-15\n",
            "Se cumple la condición de complementariedad\n"
          ]
        }
      ]
    },
    {
      "cell_type": "code",
      "source": [
        "print(b.T@lam)\n",
        "print(c.T@xval)"
      ],
      "metadata": {
        "colab": {
          "base_uri": "https://localhost:8080/"
        },
        "id": "ajoHXKY3V9LR",
        "outputId": "39874149-a5be-4594-a719-bc7b84c184b6"
      },
      "id": "ajoHXKY3V9LR",
      "execution_count": 86,
      "outputs": [
        {
          "output_type": "stream",
          "name": "stdout",
          "text": [
            "-51.25000000631624\n",
            "-51.25\n"
          ]
        }
      ]
    },
    {
      "cell_type": "markdown",
      "source": [
        "Notemos que el problema dual y el primal son equivalentes ya que $b^T \\lambda = c^T x$.\n",
        "Luego, los errores son muy peuqueños y se cumplen las condiciones necesarias para que el problema haya alcanzado el valor óptimo."
      ],
      "metadata": {
        "id": "3SfExmqaW3Hr"
      },
      "id": "3SfExmqaW3Hr"
    }
  ],
  "metadata": {
    "kernelspec": {
      "display_name": "tfp3_8",
      "language": "python",
      "name": "tfp3_8"
    },
    "language_info": {
      "codemirror_mode": {
        "name": "ipython",
        "version": 3
      },
      "file_extension": ".py",
      "mimetype": "text/x-python",
      "name": "python",
      "nbconvert_exporter": "python",
      "pygments_lexer": "ipython3",
      "version": "3.8.11"
    },
    "colab": {
      "name": "optim_tarea11.ipynb",
      "provenance": [],
      "collapsed_sections": []
    }
  },
  "nbformat": 4,
  "nbformat_minor": 5
}