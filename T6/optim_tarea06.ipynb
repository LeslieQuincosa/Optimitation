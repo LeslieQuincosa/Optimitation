{
 "cells": [
  {
   "cell_type": "markdown",
   "metadata": {},
   "source": [
    "# Curso de Optimización (DEMAT)\n",
    "## Tarea 6\n",
    "\n",
    "| Descripción:                         | Fechas               |\n",
    "|--------------------------------------|----------------------|\n",
    "| Fecha de publicación del documento:  | **Marzo 11, 2022**   |\n",
    "| Fecha límite de entrega de la tarea: | **Marzo 20, 2022**   |\n",
    "\n",
    "\n",
    "### Indicaciones\n",
    "\n",
    "Puede escribir el código de los algoritmos que se piden en una\n",
    "celda de este notebook o si lo prefiere, escribir las funciones\n",
    "en un archivo `.py` independiente e importar la funciones para\n",
    "usarlas en este notebook. Lo importante es que en el notebook\n",
    "aparezcan los resultados de la pruebas realizadas y que:\n",
    "\n",
    "- Si se requieren otros archivos para poder reproducir los resultados,\n",
    "  para mandar la tarea cree un archivo ZIP en el que incluya\n",
    "  el notebook y los archivos adicionales. \n",
    "- Si todos los códigos para que se requieren para reproducir los\n",
    "  resultados están en el notebook, no hace falta comprimirlo \n",
    "  y puede anexar sólo el notebook en la tarea del Classroom.\n",
    "- Exportar el notebook a un archivo PDF y anexarlo en la tarea del\n",
    "  Classroom como un archivo independiente.\n",
    "  **No lo incluya dentro del ZIP**, porque la idea que lo pueda accesar \n",
    "  directamente para poner anotaciones y la calificación de cada ejercicio.\n"
   ]
  },
  {
   "cell_type": "markdown",
   "metadata": {},
   "source": [
    "\n",
    "---"
   ]
  },
  {
   "cell_type": "markdown",
   "metadata": {},
   "source": [
    "## Ejercicio 1 (5 puntos)\n",
    "\n",
    "Programar el método de Newton con tamaño de paso fijo $\\alpha=1$.\n",
    "\n",
    "La función recibe como parámetros la función que calcula el gradiente $g(x)$ de la\n",
    "función objetivo $f: \\mathbb{R}^n \\rightarrow \\mathbb{R}$, \n",
    "la  función que calcula la Hessiana $H(x)$ de $f$, \n",
    "un punto inicial $x_0$, un número  máximo de iteraciones $N$, \n",
    "y la  tolerancia $\\tau>0$. Fijar $k=0$ y repetir los siguientes pasos:\n",
    "\n",
    "1. Calcular el gradiente $g_k$ en el punto $x_k$, $g_k = g(x_k)$.\n",
    "2. Si $\\|g_k\\| < \\tau$,  hacer  $res=1$ y terminar. \n",
    "3. Si no se cumple el criterio, calcular la Hessiana $H_k = H(x_k)$.\n",
    "4. Intentar calcular la factorización de Cholesky de $H_k$.\n",
    "5. Si la factorización no se puede realizar, imprimir el mensaje de error,\n",
    "   hacer $res=0$ y terminar el ciclo.\n",
    "6. Si se obtuvo la factorización, resolver el sistema de ecuaciones\n",
    "   $H_k p_k = -g_k$ (esto da la dirección de descenso como $p_k$).\n",
    "7. Calcular el siguiente punto de la secuencia como\n",
    "   $$x_{k+1} = x_k + p_k $$\n",
    "8. Si $k+1\\geq N$, hacer $res=0$ y terminar.\n",
    "9. Si no, hacer $k = k+1$ y volver el paso 1.\n",
    "10. Devolver el punto $x_k$, $g_k$, $k$ y $res$.\n",
    "\n",
    "---\n",
    "\n",
    "**Nota:** Para calcular la factorización de Cholesky y resolver el sistema de ecuaciones\n",
    "puede usar las funciones `scipy.linalg.cho_factor` y `scipy.linalg.cho_solve`.\n",
    "Si la matriz no es definida positiva, la función `cho_factor` lanza la excepción\n",
    "`scipy.linalg.LinAlgError`. Puede usar esto para terminar el ciclo.\n",
    "\n",
    "---\n",
    "\n",
    "1. Programe la función que implementa el algoritmo del método de Newton,\n",
    "   almacenando en una lista los puntos $x_0, x_1, ..., x_k$ que genera\n",
    "   el algoritmo. Haga que la función devuelva esta lista.\n",
    "2. Use la función de Rosenbrock, su gradiente y Hessiana para probar el algoritmo.\n",
    "\n",
    "* Use $N=1000$, la tolerancia $\\tau = \\sqrt{\\epsilon_m}$, donde $\\epsilon_m$ es el\n",
    "  épsilon de la máquina, y el  punto inicial $x_0= (-1.2, 1)$.\n",
    "* Si el algoritmo converge, imprima un mensaje que indique esto y \n",
    "  genere una gráfica que muestre las curvas de nivel de la función $f$ y \n",
    "  la trayectoria de los puntos $x_0, x_1, ..., x_k$.\n",
    "  Para generar esta gráfica use una discretización de los intervalos \n",
    "  $[-1.5, 1.5]$ en la dirección $X$  y $[-1, 2]$ en la dirección $Y$.\n",
    "* Imprima el punto final $x_k$, $f(x_k)$,\n",
    "  la magnitud del gradiente $g_k$ y el número de iteraciones $k$ realizadas.\n",
    "* Repita la prueba partiendo del punto inicial $x_0= (-12, 10)$.\n",
    "\n",
    "### Solución:"
   ]
  },
  {
   "cell_type": "code",
   "execution_count": null,
   "metadata": {},
   "outputs": [],
   "source": [
    "# En esta celda puede poner el código de las funciones\n",
    "# o poner la instrucción para importarlas de un archivo .py\n"
   ]
  },
  {
   "cell_type": "code",
   "execution_count": null,
   "metadata": {},
   "outputs": [],
   "source": [
    "# Pruebas realizadas a la función de Rosenbrock\n",
    "\n"
   ]
  },
  {
   "cell_type": "code",
   "execution_count": null,
   "metadata": {},
   "outputs": [],
   "source": [
    "# Prueba realizada a la función del Ejercicio 1\n",
    "\n"
   ]
  },
  {
   "cell_type": "markdown",
   "metadata": {},
   "source": [
    "_\n",
    "\n",
    "```\n",
    "\n",
    "\n",
    "\n",
    "\n",
    "\n",
    "\n",
    "\n",
    "```\n",
    "\n",
    "---"
   ]
  },
  {
   "cell_type": "markdown",
   "metadata": {},
   "source": [
    "## Ejercicio 2 (5 puntos)\n",
    "\n",
    "Programar el método de Newton con tamaño de paso ajustado por el algoritmo de backtracking.\n",
    "\n",
    "1. Modifique la función del Ejercicio 2 que implementa el algoritmo del\n",
    "   método de Newton para incluir como parámetros a la función objetivo $f(x)$ y \n",
    "   los parámetros $\\rho$ y $c_1$ del algoritmo de backtraking.\n",
    "* Después de obtener la dirección de descenso $p_k$, \n",
    "  calcular el tamaño de paso $\\alpha_k$ usando como valor inicial  $\\bar{\\alpha}_0 = 1$\n",
    "  en el algoritmo de backtracking.\n",
    "* Hacer \n",
    "  $$x_{k+1} = x_k + \\alpha_k p_k. $$\n",
    "2. Repita la prueba del algoritmo, como se indicó en el Ejercicio 1,\n",
    "   a la función de Rosenbrock, para ver como cambia la\n",
    "   trayectoria de los puntos $x_0, x_1, ..., x_k$ en comparación con el resultado anterior, partiendo de $x_0= (-1.2, 1)$ y de $x_0= (-12, 10)$.\n"
   ]
  },
  {
   "cell_type": "code",
   "execution_count": null,
   "metadata": {},
   "outputs": [],
   "source": [
    "# En esta celda puede poner el código de las funciones\n",
    "# o poner la instrucción para importarlas de un archivo .py\n",
    "\n"
   ]
  },
  {
   "cell_type": "code",
   "execution_count": null,
   "metadata": {},
   "outputs": [],
   "source": [
    "# Pruebas realizadas a la función de Rosenbrock\n",
    "\n"
   ]
  },
  {
   "cell_type": "code",
   "execution_count": null,
   "metadata": {},
   "outputs": [],
   "source": [
    "# Prueba realizada a la función del Ejercicio 1\n",
    "\n"
   ]
  }
 ],
 "metadata": {
  "kernelspec": {
   "display_name": "Python 3 (ipykernel)",
   "language": "python",
   "name": "python3"
  },
  "language_info": {
   "codemirror_mode": {
    "name": "ipython",
    "version": 3
   },
   "file_extension": ".py",
   "mimetype": "text/x-python",
   "name": "python",
   "nbconvert_exporter": "python",
   "pygments_lexer": "ipython3",
   "version": "3.9.7"
  }
 },
 "nbformat": 4,
 "nbformat_minor": 4
}
