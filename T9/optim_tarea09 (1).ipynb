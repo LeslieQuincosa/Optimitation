{
  "cells": [
    {
      "cell_type": "markdown",
      "metadata": {
        "id": "BzQd6icC42QG"
      },
      "source": [
        "# Curso de Optimización (DEMAT)\n",
        "## Tarea 9\n",
        "\n",
        "| Descripción:                         | Fechas               |\n",
        "|--------------------------------------|----------------------|\n",
        "| Fecha de publicación del documento:  | **Abril 28, 2022**   |\n",
        "| Fecha límite de entrega de la tarea: | **Mayo   8, 2022**   |\n",
        "\n",
        "\n",
        "### Indicaciones\n",
        "\n",
        "- Envie el notebook que contenga los códigos y las pruebas realizadas de cada ejercicio.\n",
        "- Si se requiren algunos scripts adicionales para poder reproducir las pruebas,\n",
        "  agreguelos en un ZIP junto con el notebook.\n",
        "- Genere un PDF del notebook y envielo por separado."
      ]
    },
    {
      "cell_type": "markdown",
      "metadata": {
        "id": "ulsuV4Ak42QN"
      },
      "source": [
        "---\n",
        "\n",
        "## Ejercicio 0 (0 puntos)\n",
        "\n",
        "- Empezar a buscar un tema para el proyecto final del curso.\n",
        "- En esta tarea no hay que poner la descripción del proyecto.\n",
        "  Sólo buscar el tema y tenerlo listo para su entrega en la\n",
        "  siguiente tarea.\n",
        "- La fecha límite para mandar la descripción del proyecto\n",
        "  se tiene que mandar es el domingo 17 de mayo. \n"
      ]
    },
    {
      "cell_type": "markdown",
      "metadata": {
        "id": "veGg2Nw542QO"
      },
      "source": [
        "\n",
        "```\n",
        "\n",
        "\n",
        "\n",
        "```\n",
        "---\n"
      ]
    },
    {
      "cell_type": "markdown",
      "metadata": {
        "id": "a4n2Xmb142QP"
      },
      "source": [
        "## Ejercicio 1. (2 puntos)\n",
        "\n",
        "Programar las siguientes funciones y sus gradientes, de modo que dependan de la dimensión $n$ de la variable $\\mathbf{x}$:\n",
        "\n",
        "\n",
        "- Función \"Tridiagonal 1\" generalizada\n",
        "\n",
        "$$  f(x) = \\sum_{i=1}^{n-1} (x_i + x_{i+1} - 3)^2 + (x_i - x_{i+1} + 1)^4  $$\n",
        "\n",
        "\n",
        "- Función generalizada de Rosenbrock\n",
        "\n",
        "$$  f(x) = \\sum_{i=1}^{n-1} 100(x_{i+1} - x_i^2)^2 + (1 - x_{i} )^2  $$\n"
      ]
    },
    {
      "cell_type": "code",
      "execution_count": 248,
      "metadata": {
        "id": "zOq6nsQP42QQ"
      },
      "outputs": [],
      "source": [
        "# Implementación de la funciones y sus gradientes\n",
        "import numpy as np\n",
        "from numpy import linalg as LA\n",
        "from numpy.linalg import eigvals\n",
        "import sys\n",
        "\n",
        "def Tridiagonal1(x):\n",
        "    return np.sum( (x[:-1] + x[1:] - 3)**2 + (x[:-1] - x[1:] + 1)**4)\n",
        "\n",
        "def gradTridiagonal1(x):\n",
        "    n = x.size\n",
        "    g = np.zeros(n)\n",
        "    g[1:-1] = 2*(x[:-2] + x[1:-1] -3) - 4*(x[:-2] - x[1:-1] + 1)**3 + 2*(x[1:-1] + x[2:] -3) + 4*(x[1:-1] - x[2:] + 1)**3\n",
        "    g[0] = 2*(x[0] + x[1] - 3) + 4*(x[0] - x[1] + 1)**3\n",
        "    g[n-1] = 2*(x[n-2] + x[n-1] - 3) - 4*(x[n-2] - x[n-1] + 1)**3\n",
        "    return g\n",
        "\n",
        "def Rosenbrock(y):\n",
        "    x = y.T\n",
        "    return np.sum( 100*(x[1:] - x[:-1]**2)**2 + (1-x[:-1])**2)\n",
        "\n",
        "def gradRosenbrock(x):\n",
        "    n = x.size\n",
        "    g = np.zeros(n)\n",
        "    g[1:-1] = 200*(x[1:-1] -x[:-2]**2) -400*x[1:-1]*(x[2:]-x[1:-1]**2)-2*(1-x[1:-1])\n",
        "    g[0] = 200*(x[1]-x[0]**2)*(-2*x[0]) - 2*(1-x[0])\n",
        "    g[n-1] = 200*(x[n-1]-x[n-2]**2)\n",
        "    return g\n"
      ]
    },
    {
      "cell_type": "code",
      "source": [
        ""
      ],
      "metadata": {
        "id": "1cyiImBTyTsk"
      },
      "execution_count": 248,
      "outputs": []
    },
    {
      "cell_type": "markdown",
      "metadata": {
        "tags": [],
        "id": "5PsKTEGj42QR"
      },
      "source": [
        "\n",
        "```\n",
        "\n",
        "\n",
        "```\n",
        "---\n"
      ]
    },
    {
      "cell_type": "markdown",
      "metadata": {
        "id": "igex2qa842QR"
      },
      "source": [
        "## Ejercicio 1 (8 puntos)\n",
        "\n",
        "Programar y probar el método BFGS modificado.\n",
        "\n",
        "\n",
        "1. Programar el algoritmo descrito en la diapositiva 16 de la clase 23.\n",
        "   Agregue una variable $res$ que indique si el algoritmo terminó\n",
        "   porque se cumplió que la magnitud del gradiente es menor que la toleracia\n",
        "   dada.\n",
        "2. Probar el algoritmo con las funciones del Ejercicio 1\n",
        "   con la matriz $H_0$ como la matriz identidad y el \n",
        "   punto inicial $x_0$ como:\n",
        "\n",
        "- La función generalizada de Rosenbrock: \n",
        "\n",
        "$$ x_0 = (-1.2, 1, -1.2, 1, ..., -1.2, 1) \\in \\mathbb{R}^n$$\n",
        "\n",
        "- La función Tridiagonal 1 generalizada: \n",
        "\n",
        "$$ x_0 = (2,2, ..., 2) \\in \\mathbb{R}^n $$\n",
        "  \n",
        "  Pruebe el algoritmo con la dimensión $n=2, 10 , 100$.\n",
        "\n",
        "3. Fije el número de iteraciones máximas a $N=50000$, \n",
        "   y la tolerancia $\\tau = \\epsilon_m^{1/3}$, donde $\\epsilon_m$\n",
        "   es el épsilon máquina, para terminar las iteraciones \n",
        "   si la magnitud del gradiente es menor que $\\tau$.\n",
        "   En cada caso, imprima los siguiente datos:\n",
        "   \n",
        "- $n$,\n",
        "- $f(x_0)$, \n",
        "- Usando la variable $res$, imprima un mensaje que indique si\n",
        "  el algoritmo convergió,\n",
        "- el  número $k$ de iteraciones realizadas,\n",
        "- $f(x_k)$,\n",
        "- la norma del vector $\\nabla f_k$, y\n",
        "- las primeras y últimas 4 entradas del punto $x_k$ que devuelve el algoritmo.\n",
        "  \n",
        "\n",
        "### Solución:"
      ]
    },
    {
      "cell_type": "code",
      "execution_count": 249,
      "metadata": {
        "id": "r4PIPAmN42QS"
      },
      "outputs": [],
      "source": [
        "# En esta celda puede poner el código de las funciones\n",
        "# o poner la instrucción para importarlas de un archivo .py\n",
        "def Backtraking(f, fk, gk, xk, pk, a0, rho, c):\n",
        "    a = a0\n",
        "    while f(xk + a*pk) > fk +c*a*gk.T@pk:\n",
        "        a = rho*a\n",
        "    return a\n",
        "\n",
        "def BFGS(f, g, H, x0, N, tol):\n",
        "    res = 0\n",
        "    h = 0.00001\n",
        "    xk = x0.copy()\n",
        "    n = x0.size\n",
        "    Hk = H.copy()      #Aquí debería estar Hk(xk)\n",
        "    I = np.identity(n)\n",
        "    for k in range(N):\n",
        "      gk = g(f, xk, h) #####Por ser el gradiente por dif Fin\n",
        "      fk = f(xk)\n",
        "      norm = LA.norm(gk)\n",
        "      if norm < tol:\n",
        "        res = 1\n",
        "        break\n",
        "      pk = -Hk@gk\n",
        "      if pk.T@gk > 0:\n",
        "        lamb1 = 0.00001 + (pk.T@gk)/(gk.T@gk)\n",
        "        Hk = Hk + lamb1*I\n",
        "        pk = pk - lamb1*gk    ##Condiciones de Wolfe\n",
        "      ak = Backtraking(f, fk, gk, xk, pk, 2, 0.5, 0.0001)\n",
        "      xk1 = xk.copy()        #xk\n",
        "      xk = xk + ak*pk #xk+1\n",
        "      sk = ak*pk\n",
        "      gk1 = gk.copy()\n",
        "      gk = g(f, xk, h)   #####Por ser el gradiente por dif Fin\n",
        "      yk = gk - gk1   \n",
        "      if yk.T@sk <= 0:\n",
        "        lamb2 = 0.00001 - (yk.T@sk)/(sk.T@sk)\n",
        "        Hk = Hk + lamb2*I\n",
        "      else:\n",
        "        rho_k = 1/(yk.T@sk)\n",
        "        Hk = (I - rho_k*sk@yk.T)@Hk@(I - rho_k*yk@sk.T) + rho_k*sk@sk.T\n",
        "    print(sk, yk, ak, pk, gk)\n",
        "    return xk, fk, gk, k, res\n"
      ]
    },
    {
      "cell_type": "code",
      "execution_count": 250,
      "metadata": {
        "id": "kv5oSiT342QT"
      },
      "outputs": [],
      "source": [
        "# Pruebas realizadas \n",
        "\n",
        "def vectorx0Ros(n):\n",
        "  x = np.zeros(n)\n",
        "  for k in range( int(n/2)):\n",
        "    x[2*k] = -1.2\n",
        "    x[2*k+1] = 1\n",
        "  return x\n",
        "\n",
        "def vectorx0tri(n):\n",
        "  x = np.zeros(n)\n",
        "  for k in range(n):\n",
        "    x[k] = 2\n",
        "  return x\n"
      ]
    },
    {
      "cell_type": "code",
      "source": [
        "x0 = vectorx0Ros(4)\n",
        "print(x0)\n",
        "#print(Tridiagonal1(x0))\n",
        "#print(gradTridiagonal1(x0))\n",
        "\n",
        "#print(Rosenbrock(x0))\n",
        "#print(gradRosenbrock(x0))\n",
        "def fR(x):\n",
        "  f=0\n",
        "  for i in range(len(x)-1):\n",
        "    f += 100 * (x[i+1] - x[i]**2)**2 + (1-x[i])**2\n",
        "    return f\n",
        "\n",
        "def GradDifFin(f, x, h):\n",
        "    n = np.size(x)\n",
        "    #print(n)\n",
        "    Mx = np.tile(x , (n,1) ) #Repite el vector x, n veces.\n",
        "    #print(Mx)\n",
        "    eval = Mx + h*np.identity(n) \n",
        "    #print(eval)\n",
        "    partial = (1/h)*(f(eval) - f(x))\n",
        "    #print(f(eval))\n",
        "    return partial\n",
        "\n",
        "def function(x):\n",
        "    xT = x\n",
        "    return 100 * (xT[1] - xT[0]**2)**2 + (1-xT[0])**2 + 100 * (xT[2] - xT[1]**2)**2 + (1-xT[1])**2 + 100 * (xT[3] - xT[2]**2)**2 + (1-xT[2])**2 \n",
        "    \n",
        "\n",
        "#print(GradDifFin(Rosenbrock, x0, 0.00001))\n",
        "#x1 = np.array([1, 2, 3, 4])\n",
        "\n",
        "\n",
        "print(Rosenbrock(x0))\n",
        "print(fR(x0))\n",
        "print(function(x0))\n",
        "\n",
        "print(GradDifFin(Rosenbrock, x0, 0.00001))\n",
        "print(GradDifFin(function, x0, 0.00001))\n"
      ],
      "metadata": {
        "colab": {
          "base_uri": "https://localhost:8080/"
        },
        "id": "Slet-cdOyZRb",
        "outputId": "9b87e1ba-1b96-4d0e-d743-9b658839edfd"
      },
      "execution_count": 251,
      "outputs": [
        {
          "output_type": "stream",
          "name": "stdout",
          "text": [
            "[-1.2  1.  -1.2  1. ]\n",
            "532.4000000000001\n",
            "24.199999999999996\n",
            "532.4000000000001\n",
            "159719832.82470995\n",
            "[ 1.57298728e+08 -5.32400000e+07  1.57298200e+08 -5.32400000e+07]\n"
          ]
        }
      ]
    },
    {
      "cell_type": "code",
      "source": [
        "#Función de prueba\n",
        "\n",
        "def ProbarRos(f, g, n, N, tol):\n",
        "    x0 = vectorx0Ros(n)\n",
        "    H = np.identity(n)\n",
        "    xk, fk, gk, k, res = BFGS(f, g, H, x0, N, tol)\n",
        "    if res == 1:\n",
        "        print('¡Convergió! :)')\n",
        "    else:\n",
        "        print('¡No convergió! :(')\n",
        "    print('Valor n:', n)\n",
        "    print('f(x0):', f(x0))\n",
        "    print('Valor k:', k)\n",
        "    print('xk:', xk[:2], '...', xk[n-2:])\n",
        "    print('f(xk):', fk)\n",
        "    print('||fk||:', LA.norm(fk))\n",
        "    print('res:', res)\n",
        "\n",
        "def ProbarTri(f, g, n, N, tol):\n",
        "    x0 = vectorx0tri(n)\n",
        "    H = np.identity(n)\n",
        "    xk, fk, gk, k, res = BFGS(f, g, H, x0, N, tol)\n",
        "    if res == 1:\n",
        "        print('¡Convergió! :)')\n",
        "    else:\n",
        "        print('¡No convergió! :(')\n",
        "    print('Valor n:', n)\n",
        "    print('f(x0):', f(x0))\n",
        "    print('Valor k:', k)\n",
        "    print('xk:', xk[:2], '...', xk[n-2:])\n",
        "    print('f(xk):', fk)\n",
        "    print('||fk||:', LA.norm(fk))\n",
        "    print('res:', res)"
      ],
      "metadata": {
        "id": "C0IYygngu84t"
      },
      "execution_count": 252,
      "outputs": []
    },
    {
      "cell_type": "markdown",
      "metadata": {
        "id": "GHNuY0aC42QU"
      },
      "source": [
        "\n",
        "```\n",
        "\n",
        "\n",
        "```\n",
        "---"
      ]
    },
    {
      "cell_type": "code",
      "execution_count": 253,
      "metadata": {
        "colab": {
          "base_uri": "https://localhost:8080/"
        },
        "id": "qkYOA_px42QU",
        "outputId": "b78ed761-1c61-4851-e324-7b5c49b3854a"
      },
      "outputs": [
        {
          "output_type": "stream",
          "name": "stdout",
          "text": [
            "Pruebas para la función de Rosenbrock\n",
            " \n",
            " \n",
            "[-2.40832096e-19  8.60130770e-21] [0. 0.] 3.2311742677852644e-27 [-74533923.6649152    2661975.79890159] [67758728.41104993 -2419999.999     ]\n",
            "¡No convergió! :(\n",
            "Valor n: 2\n",
            "f(x0): 24.199999999999996\n",
            "Valor k: 9999\n",
            "xk: [-1.2  1. ] ... [-1.2  1. ]\n",
            "f(xk): 24.199999999999996\n",
            "||fk||: 24.199999999999996\n",
            "res: 0\n"
          ]
        }
      ],
      "source": [
        "\n",
        "#Pruebas\n",
        "eps = sys.float_info.epsilon\n",
        "tol = eps**(1/3)\n",
        "\n",
        "import warnings\n",
        "warnings.simplefilter('error', RuntimeWarning)\n",
        "\n",
        "x0 = vectorx0Ros(4)\n",
        "grad = GradDifFin(fR, x0, 0.00001)\n",
        "print('Pruebas para la función de Rosenbrock')\n",
        "#ProbarRos(Rosenbrock, gradRosenbrock, 4, 50000, tol)\n",
        "print(' ')\n",
        "#ProbarRos(Rosenbrock, GradDifFin(fR, x0, 0.000001), 4, 50000, tol)\n",
        "print(' ')\n",
        "ProbarRos(fR, GradDifFin, 2, 10000, tol)"
      ]
    },
    {
      "cell_type": "code",
      "source": [
        "print('Pruebas para la función de Tridiagonal')\n",
        "ProbarTri(Tridiagonal1, gradTridiagonal1, 2, 50000, tol)\n",
        "print(' ')\n",
        "ProbarTri(Tridiagonal1, gradTridiagonal1, 10, 50000, tol)\n",
        "print(' ')\n",
        "ProbarTri(Tridiagonal1, gradTridiagonal1, 100, 50000, tol)\n"
      ],
      "metadata": {
        "colab": {
          "base_uri": "https://localhost:8080/",
          "height": 408
        },
        "id": "vUGo8JtVw8ee",
        "outputId": "98672f4e-90bb-4361-cd52-60bba0ffa3d3"
      },
      "execution_count": 254,
      "outputs": [
        {
          "output_type": "stream",
          "name": "stdout",
          "text": [
            "Pruebas para la función de Tridiagonal\n"
          ]
        },
        {
          "output_type": "error",
          "ename": "TypeError",
          "evalue": "ignored",
          "traceback": [
            "\u001b[0;31m---------------------------------------------------------------------------\u001b[0m",
            "\u001b[0;31mTypeError\u001b[0m                                 Traceback (most recent call last)",
            "\u001b[0;32m<ipython-input-254-21e2a72c8a38>\u001b[0m in \u001b[0;36m<module>\u001b[0;34m()\u001b[0m\n\u001b[1;32m      1\u001b[0m \u001b[0mprint\u001b[0m\u001b[0;34m(\u001b[0m\u001b[0;34m'Pruebas para la función de Tridiagonal'\u001b[0m\u001b[0;34m)\u001b[0m\u001b[0;34m\u001b[0m\u001b[0;34m\u001b[0m\u001b[0m\n\u001b[0;32m----> 2\u001b[0;31m \u001b[0mProbarTri\u001b[0m\u001b[0;34m(\u001b[0m\u001b[0mTridiagonal1\u001b[0m\u001b[0;34m,\u001b[0m \u001b[0mgradTridiagonal1\u001b[0m\u001b[0;34m,\u001b[0m \u001b[0;36m2\u001b[0m\u001b[0;34m,\u001b[0m \u001b[0;36m50000\u001b[0m\u001b[0;34m,\u001b[0m \u001b[0mtol\u001b[0m\u001b[0;34m)\u001b[0m\u001b[0;34m\u001b[0m\u001b[0;34m\u001b[0m\u001b[0m\n\u001b[0m\u001b[1;32m      3\u001b[0m \u001b[0mprint\u001b[0m\u001b[0;34m(\u001b[0m\u001b[0;34m' '\u001b[0m\u001b[0;34m)\u001b[0m\u001b[0;34m\u001b[0m\u001b[0;34m\u001b[0m\u001b[0m\n\u001b[1;32m      4\u001b[0m \u001b[0mProbarTri\u001b[0m\u001b[0;34m(\u001b[0m\u001b[0mTridiagonal1\u001b[0m\u001b[0;34m,\u001b[0m \u001b[0mgradTridiagonal1\u001b[0m\u001b[0;34m,\u001b[0m \u001b[0;36m10\u001b[0m\u001b[0;34m,\u001b[0m \u001b[0;36m50000\u001b[0m\u001b[0;34m,\u001b[0m \u001b[0mtol\u001b[0m\u001b[0;34m)\u001b[0m\u001b[0;34m\u001b[0m\u001b[0;34m\u001b[0m\u001b[0m\n\u001b[1;32m      5\u001b[0m \u001b[0mprint\u001b[0m\u001b[0;34m(\u001b[0m\u001b[0;34m' '\u001b[0m\u001b[0;34m)\u001b[0m\u001b[0;34m\u001b[0m\u001b[0;34m\u001b[0m\u001b[0m\n",
            "\u001b[0;32m<ipython-input-252-bc88e4c9e239>\u001b[0m in \u001b[0;36mProbarTri\u001b[0;34m(f, g, n, N, tol)\u001b[0m\n\u001b[1;32m     20\u001b[0m     \u001b[0mx0\u001b[0m \u001b[0;34m=\u001b[0m \u001b[0mvectorx0tri\u001b[0m\u001b[0;34m(\u001b[0m\u001b[0mn\u001b[0m\u001b[0;34m)\u001b[0m\u001b[0;34m\u001b[0m\u001b[0;34m\u001b[0m\u001b[0m\n\u001b[1;32m     21\u001b[0m     \u001b[0mH\u001b[0m \u001b[0;34m=\u001b[0m \u001b[0mnp\u001b[0m\u001b[0;34m.\u001b[0m\u001b[0midentity\u001b[0m\u001b[0;34m(\u001b[0m\u001b[0mn\u001b[0m\u001b[0;34m)\u001b[0m\u001b[0;34m\u001b[0m\u001b[0;34m\u001b[0m\u001b[0m\n\u001b[0;32m---> 22\u001b[0;31m     \u001b[0mxk\u001b[0m\u001b[0;34m,\u001b[0m \u001b[0mfk\u001b[0m\u001b[0;34m,\u001b[0m \u001b[0mgk\u001b[0m\u001b[0;34m,\u001b[0m \u001b[0mk\u001b[0m\u001b[0;34m,\u001b[0m \u001b[0mres\u001b[0m \u001b[0;34m=\u001b[0m \u001b[0mBFGS\u001b[0m\u001b[0;34m(\u001b[0m\u001b[0mf\u001b[0m\u001b[0;34m,\u001b[0m \u001b[0mg\u001b[0m\u001b[0;34m,\u001b[0m \u001b[0mH\u001b[0m\u001b[0;34m,\u001b[0m \u001b[0mx0\u001b[0m\u001b[0;34m,\u001b[0m \u001b[0mN\u001b[0m\u001b[0;34m,\u001b[0m \u001b[0mtol\u001b[0m\u001b[0;34m)\u001b[0m\u001b[0;34m\u001b[0m\u001b[0;34m\u001b[0m\u001b[0m\n\u001b[0m\u001b[1;32m     23\u001b[0m     \u001b[0;32mif\u001b[0m \u001b[0mres\u001b[0m \u001b[0;34m==\u001b[0m \u001b[0;36m1\u001b[0m\u001b[0;34m:\u001b[0m\u001b[0;34m\u001b[0m\u001b[0;34m\u001b[0m\u001b[0m\n\u001b[1;32m     24\u001b[0m         \u001b[0mprint\u001b[0m\u001b[0;34m(\u001b[0m\u001b[0;34m'¡Convergió! :)'\u001b[0m\u001b[0;34m)\u001b[0m\u001b[0;34m\u001b[0m\u001b[0;34m\u001b[0m\u001b[0m\n",
            "\u001b[0;32m<ipython-input-249-3c10cf633efc>\u001b[0m in \u001b[0;36mBFGS\u001b[0;34m(f, g, H, x0, N, tol)\u001b[0m\n\u001b[1;32m     15\u001b[0m     \u001b[0mI\u001b[0m \u001b[0;34m=\u001b[0m \u001b[0mnp\u001b[0m\u001b[0;34m.\u001b[0m\u001b[0midentity\u001b[0m\u001b[0;34m(\u001b[0m\u001b[0mn\u001b[0m\u001b[0;34m)\u001b[0m\u001b[0;34m\u001b[0m\u001b[0;34m\u001b[0m\u001b[0m\n\u001b[1;32m     16\u001b[0m     \u001b[0;32mfor\u001b[0m \u001b[0mk\u001b[0m \u001b[0;32min\u001b[0m \u001b[0mrange\u001b[0m\u001b[0;34m(\u001b[0m\u001b[0mN\u001b[0m\u001b[0;34m)\u001b[0m\u001b[0;34m:\u001b[0m\u001b[0;34m\u001b[0m\u001b[0;34m\u001b[0m\u001b[0m\n\u001b[0;32m---> 17\u001b[0;31m       \u001b[0mgk\u001b[0m \u001b[0;34m=\u001b[0m \u001b[0mg\u001b[0m\u001b[0;34m(\u001b[0m\u001b[0mf\u001b[0m\u001b[0;34m,\u001b[0m \u001b[0mxk\u001b[0m\u001b[0;34m,\u001b[0m \u001b[0mh\u001b[0m\u001b[0;34m)\u001b[0m \u001b[0;31m#####Por ser el gradiente por dif Fin\u001b[0m\u001b[0;34m\u001b[0m\u001b[0;34m\u001b[0m\u001b[0m\n\u001b[0m\u001b[1;32m     18\u001b[0m       \u001b[0mfk\u001b[0m \u001b[0;34m=\u001b[0m \u001b[0mf\u001b[0m\u001b[0;34m(\u001b[0m\u001b[0mxk\u001b[0m\u001b[0;34m)\u001b[0m\u001b[0;34m\u001b[0m\u001b[0;34m\u001b[0m\u001b[0m\n\u001b[1;32m     19\u001b[0m       \u001b[0mnorm\u001b[0m \u001b[0;34m=\u001b[0m \u001b[0mLA\u001b[0m\u001b[0;34m.\u001b[0m\u001b[0mnorm\u001b[0m\u001b[0;34m(\u001b[0m\u001b[0mgk\u001b[0m\u001b[0;34m)\u001b[0m\u001b[0;34m\u001b[0m\u001b[0;34m\u001b[0m\u001b[0m\n",
            "\u001b[0;31mTypeError\u001b[0m: gradTridiagonal1() takes 1 positional argument but 3 were given"
          ]
        }
      ]
    },
    {
      "cell_type": "code",
      "source": [
        ""
      ],
      "metadata": {
        "id": "d6OtNp6XEiEl"
      },
      "execution_count": null,
      "outputs": []
    }
  ],
  "metadata": {
    "kernelspec": {
      "display_name": "Python 3 (ipykernel)",
      "language": "python",
      "name": "python3"
    },
    "language_info": {
      "codemirror_mode": {
        "name": "ipython",
        "version": 3
      },
      "file_extension": ".py",
      "mimetype": "text/x-python",
      "name": "python",
      "nbconvert_exporter": "python",
      "pygments_lexer": "ipython3",
      "version": "3.9.7"
    },
    "colab": {
      "name": "optim_tarea09.ipynb",
      "provenance": []
    }
  },
  "nbformat": 4,
  "nbformat_minor": 0
}