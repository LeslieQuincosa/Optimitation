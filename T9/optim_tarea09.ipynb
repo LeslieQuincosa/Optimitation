{
 "cells": [
  {
   "cell_type": "markdown",
   "metadata": {},
   "source": [
    "# Curso de Optimización (DEMAT)\n",
    "## Tarea 9\n",
    "\n",
    "| Descripción:                         | Fechas               |\n",
    "|--------------------------------------|----------------------|\n",
    "| Fecha de publicación del documento:  | **Abril 28, 2022**   |\n",
    "| Fecha límite de entrega de la tarea: | **Mayo   8, 2022**   |\n",
    "\n",
    "\n",
    "### Indicaciones\n",
    "\n",
    "- Envie el notebook que contenga los códigos y las pruebas realizadas de cada ejercicio.\n",
    "- Si se requiren algunos scripts adicionales para poder reproducir las pruebas,\n",
    "  agreguelos en un ZIP junto con el notebook.\n",
    "- Genere un PDF del notebook y envielo por separado."
   ]
  },
  {
   "cell_type": "markdown",
   "metadata": {},
   "source": [
    "---\n",
    "\n",
    "## Ejercicio 0 (0 puntos)\n",
    "\n",
    "- Empezar a buscar un tema para el proyecto final del curso.\n",
    "- En esta tarea no hay que poner la descripción del proyecto.\n",
    "  Sólo buscar el tema y tenerlo listo para su entrega en la\n",
    "  siguiente tarea.\n",
    "- La fecha límite para mandar la descripción del proyecto\n",
    "  se tiene que mandar es el domingo 17 de mayo. \n"
   ]
  },
  {
   "cell_type": "markdown",
   "metadata": {},
   "source": [
    "\n",
    "```\n",
    "\n",
    "\n",
    "\n",
    "```\n",
    "---\n"
   ]
  },
  {
   "cell_type": "markdown",
   "metadata": {},
   "source": [
    "## Ejercicio 1. (2 puntos)\n",
    "\n",
    "Programar las siguientes funciones y sus gradientes, de modo que dependan de la dimensión $n$ de la variable $\\mathbf{x}$:\n",
    "\n",
    "\n",
    "- Función \"Tridiagonal 1\" generalizada\n",
    "\n",
    "$$  f(x) = \\sum_{i=1}^{n-1} (x_i + x_{i+1} - 3)^2 + (x_i - x_{i+1} + 1)^4  $$\n",
    "\n",
    "\n",
    "- Función generalizada de Rosenbrock\n",
    "\n",
    "$$  f(x) = \\sum_{i=1}^{n-1} 100(x_{i+1} - x_i^2)^2 + (1 - x_{i} )^2  $$\n"
   ]
  },
  {
   "cell_type": "code",
   "execution_count": null,
   "metadata": {},
   "outputs": [],
   "source": [
    "# Implementación de la funciones y sus gradientes\n",
    "\n",
    "\n"
   ]
  },
  {
   "cell_type": "markdown",
   "metadata": {
    "tags": []
   },
   "source": [
    "\n",
    "```\n",
    "\n",
    "\n",
    "```\n",
    "---\n"
   ]
  },
  {
   "cell_type": "markdown",
   "metadata": {},
   "source": [
    "## Ejercicio 1 (8 puntos)\n",
    "\n",
    "Programar y probar el método BFGS modificado.\n",
    "\n",
    "\n",
    "1. Programar el algoritmo descrito en la diapositiva 16 de la clase 23.\n",
    "   Agregue una variable $res$ que indique si el algoritmo terminó\n",
    "   porque se cumplió que la magnitud del gradiente es menor que la toleracia\n",
    "   dada.\n",
    "2. Probar el algoritmo con las funciones del Ejercicio 1\n",
    "   con la matriz $H_0$ como la matriz identidad y el \n",
    "   punto inicial $x_0$ como:\n",
    "\n",
    "- La función generalizada de Rosenbrock: \n",
    "\n",
    "$$ x_0 = (-1.2, 1, -1.2, 1, ..., -1.2, 1) \\in \\mathbb{R}^n$$\n",
    "\n",
    "- La función Tridiagonal 1 generalizada: \n",
    "\n",
    "$$ x_0 = (2,2, ..., 2) \\in \\mathbb{R}^n $$\n",
    "  \n",
    "  Pruebe el algoritmo con la dimensión $n=2, 10 , 100$.\n",
    "\n",
    "3. Fije el número de iteraciones máximas a $N=50000$, \n",
    "   y la tolerancia $\\tau = \\epsilon_m^{1/3}$, donde $\\epsilon_m$\n",
    "   es el épsilon máquina, para terminar las iteraciones \n",
    "   si la magnitud del gradiente es menor que $\\tau$.\n",
    "   En cada caso, imprima los siguiente datos:\n",
    "   \n",
    "- $n$,\n",
    "- $f(x_0)$, \n",
    "- Usando la variable $res$, imprima un mensaje que indique si\n",
    "  el algoritmo convergió,\n",
    "- el  número $k$ de iteraciones realizadas,\n",
    "- $f(x_k)$,\n",
    "- la norma del vector $\\nabla f_k$, y\n",
    "- las primeras y últimas 4 entradas del punto $x_k$ que devuelve el algoritmo.\n",
    "  \n",
    "\n",
    "### Solución:"
   ]
  },
  {
   "cell_type": "code",
   "execution_count": null,
   "metadata": {},
   "outputs": [],
   "source": [
    "# En esta celda puede poner el código de las funciones\n",
    "# o poner la instrucción para importarlas de un archivo .py\n"
   ]
  },
  {
   "cell_type": "code",
   "execution_count": null,
   "metadata": {},
   "outputs": [],
   "source": [
    "# Pruebas realizadas \n",
    "\n"
   ]
  },
  {
   "cell_type": "markdown",
   "metadata": {},
   "source": [
    "\n",
    "```\n",
    "\n",
    "\n",
    "```\n",
    "---"
   ]
  },
  {
   "cell_type": "code",
   "execution_count": null,
   "metadata": {},
   "outputs": [],
   "source": []
  }
 ],
 "metadata": {
  "kernelspec": {
   "display_name": "Python 3 (ipykernel)",
   "language": "python",
   "name": "python3"
  },
  "language_info": {
   "codemirror_mode": {
    "name": "ipython",
    "version": 3
   },
   "file_extension": ".py",
   "mimetype": "text/x-python",
   "name": "python",
   "nbconvert_exporter": "python",
   "pygments_lexer": "ipython3",
   "version": "3.9.7"
  }
 },
 "nbformat": 4,
 "nbformat_minor": 4
}
