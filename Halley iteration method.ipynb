{
  "cells": [
    {
      "cell_type": "markdown",
      "metadata": {
        "id": "rilUngfQoFcv"
      },
      "source": [
        "# Curso de Optimización (DEMAT)\n",
        "## Tarea 1\n",
        "\n",
        "| Descripción:                         | Fechas               |\n",
        "|--------------------------------------|----------------------|\n",
        "| Fecha de publicación del documento:  | **Febrero 3, 2022**  |\n",
        "| Fecha límite de entrega de la tarea: | **Febrero 13, 2022** |\n",
        "\n",
        "\n",
        "### Indicaciones\n",
        "\n",
        "El propósito de esta tarea es poner en praćtica lo que hemos revisado\n",
        "sobre Python, por lo que los ejercicios son de programación.\n",
        "\n",
        "Puede escribir el código de los algoritmos que se piden en una\n",
        "celda de este notebook o si lo prefiere, escribir las funciones\n",
        "en un archivo `.py` independiente e importar la funciones para\n",
        "usarlas en este notebook. Lo importante es que en el notebook\n",
        "aparezcan los resultados de la pruebas realizadas y que:\n",
        "\n",
        "- Si se requieren otros archivos para poder reproducir los resultados,\n",
        "  para mandar la tarea cree un archivo ZIP en el que incluya\n",
        "  el notebook y los archivos adicionales. \n",
        "- Si todos los códigos para que se requieren para reproducir los\n",
        "  resultados están en el notebook, no hace falta comprimirlo \n",
        "  y puede anexar sólo el notebook en la tarea del Classroom.\n",
        "- Exportar el notebook a un archivo PDF y anexarlo en la tarea del\n",
        "  Classroom como un archivo independiente.\n",
        "  **No lo incluya dentro del ZIP**, porque la idea que lo pueda accesar \n",
        "  directamente para poner anotaciones y la calificación de cada ejercicio.\n",
        "\n",
        "En la descripción de los ejercicios se nombran algunas variables\n",
        "para el algoritmo, pero sólo es para facilitar la descripción.\n",
        "En la implementación pueden nombrar sus variables como gusten.\n",
        "\n",
        "En los algoritmos se describen las entradas de las\n",
        "funciones. La intención es que tomen en cuenta lo que requiere\n",
        "el algoritmo y que tiene que haber parámetros que permitan\n",
        "controlar el comportamiento del algoritmo,\n",
        "evitando que dejen fijo un valor y que no se puede modificar\n",
        "para hacer diferentes pruebas. Si quieren dar esta información\n",
        "usando un tipo de dato que contenga todos los valores o\n",
        "usar variables por separado, etc., lo pueden hacer y no usen\n",
        "variables globales si no es necesario.\n",
        "\n",
        "Lo mismo para los valores que devuelve una función. \n",
        "Pueden codificar como gusten la manera en que regresa los cálculos.\n",
        "El punto es que podamos tener acceso a los resultados,\n",
        "sin usar variables globales, y que la función no sólo imprima \n",
        "los valores que después no los podamos usar.\n"
      ]
    },
    {
      "cell_type": "markdown",
      "metadata": {
        "id": "ENtSDvzroFdB"
      },
      "source": [
        "---\n",
        "\n",
        "## Ejercicio 1 (6 puntos)\n",
        "\n",
        "\n",
        "Programar y probar el método de la iteración de Halley para el cálculo de raíces de una función de una variable.\n",
        "\n",
        "### Descripción del método\n",
        "\n",
        "El método de Halley usa una aproximación de la función $f(x)$ de segundo orden del desarrollo de Taylor de $f(x)$. \n",
        "\n",
        "$$ f(x_{k+1}) \\approx f(x_k) +  f'(x_k) \\Delta x + \\frac{1}{2} f''(x_k) (\\Delta x)^2 $$\n",
        "\n",
        "Si igualamos a cero la aproximación tenemos que \n",
        "\n",
        "$$\n",
        "\\Delta x = - \\frac{f(x_k)}{  f'(x_k) + \\frac{1}{2} f''(x_k) \\Delta x }\n",
        "$$\n",
        "\n",
        "El valor $\\Delta x$ en el lado izquierdo de la igualdad \n",
        "corresponde a $\\Delta x = x_{k+1} - x_{k}$, mientras que el que está\n",
        "en el denominador se aproxima por el paso de Newton-Raphson:\n",
        "\n",
        "$$ \\Delta x = -\\frac{f(x_k)}{f'(x_k)}, $$ \n",
        "\n",
        "de modo que\n",
        "\n",
        "$$\n",
        "x_{k+1} - x_{k} = \n",
        "- \\frac{f(x_k)}{  f'(x_k) - \\frac{1}{2} f''(x_k)f(x_k)/f'(x_k)  },\n",
        "$$\n",
        "\n",
        "es decir, el método de Halley propone generar la secuencia\n",
        "de puntos mediante la siguiente regla:\n",
        "\n",
        "$$\n",
        "x_{k+1} = x_{k} \n",
        "- \\frac{f(x_k)}{  f'(x_k) - \\frac{f''(x_k)f(x_k)}{2f'(x_k)}  }.\n",
        "$$\n",
        "\n",
        "1. Escriba la función que aplique el método de Halley.\n",
        "   Debe recibir como argumentos un punto inicial $x_0$, las\n",
        "   función $f(x)$, sus derivadas $f'(x)$ y $f''(x)$, \n",
        "   el número máximo de iteraciones y un tolerancia $\\tau>0$,\n",
        "   similar a la función `NewtonRaphson()` vista en el ejemplo de\n",
        "   la clase, de  modo que se detenga cuando se cumpla que $|f(x_k)|< \\tau$.\n",
        "   Defina la variable `res` que indique el resultado obtenido \n",
        "   (`res=0` se acabaron las iteraciones y no se encontró un punto\n",
        "   que satisfaga el criterio de convergencia, `res=1` el algoritmo\n",
        "   converge, `res=-1` hay un problema al evaluar la expresión.\n",
        "   La función debe devolver el último punto $x_k$, $f(x_k)$,\n",
        "   el número de iteraciones realizadas y la variable `res`.\n",
        "   \n",
        "2. Pruebe el algoritmo de Halley con las siguientes funciones y puntos inciales:\n",
        "\n",
        "$$ f_1(x) =  x^3 - 2x + 1, x_0=-1000,1000. $$ \n",
        "\n",
        "$$ f_2(x) =  1 + x - \\frac{3}{2}x^2 + \\frac{1}{6}x^3 + \\frac{1}{4}x^4, x_0=-1000,1000. $$ \n",
        "\n",
        "   En cada caso imprima $x_0$, $f(x_0)$, $x_k$, $f(x_k)$, el número de iteraciones $k$ realizadas y el valor de la variable $res$.\n",
        "\n",
        "3. Repita las pruebas anteriores con el método de Newton-Raphson\n",
        "   y escriba un comentario sobre los resultados.\n",
        "\n",
        "### Solución:"
      ]
    },
    {
      "cell_type": "code",
      "execution_count": 15,
      "metadata": {
        "id": "7LwszxfSoFdE"
      },
      "outputs": [],
      "source": [
        "# Implementación del método de Newton-Raphson.\n",
        "# Pueden modificar la función si lo desean.\n",
        "def NewtonRaphson(x0, fnc, derf, iterMax, tol):\n",
        "    xk  = x0\n",
        "    res = 0\n",
        "    for i in range(iterMax):\n",
        "        fk = fnc(xk)\n",
        "        if fk<tol and fk>-tol:\n",
        "            res = 1\n",
        "            break\n",
        "        else:\n",
        "            dfx = derf(xk)\n",
        "            if dfx!=0:\n",
        "                xk = xk - fk/dfx\n",
        "            else:\n",
        "                res = -1\n",
        "                break\n",
        "    return xk,fk,i,res\n",
        "\n"
      ]
    },
    {
      "cell_type": "code",
      "execution_count": 4,
      "metadata": {
        "id": "ih_N7nbXoFdG"
      },
      "outputs": [],
      "source": [
        "# En esta celda puede poner el código de la función pedida\n",
        "# o poner la instrucción para importar la función de un archivo .py\n",
        "\n",
        "def Halley(x0, fnc, derf, derf2, iterMax, tol):\n",
        "    xk = x0\n",
        "    res = 0\n",
        "    for i in range(iterMax):\n",
        "        fk = fnc(xk)\n",
        "        if fk<tol and fk>-tol:\n",
        "            res = 1\n",
        "            break\n",
        "        else:\n",
        "            derfk = derf(xk)\n",
        "            derfk2 = derf2(xk)\n",
        "            if derfk!=0 or derfk - derfk2*fk/(2*derfk)!=0:\n",
        "                xk = xk - fk/(derfk - derfk2*fk/(2*derfk))\n",
        "            else:\n",
        "                res = -1\n",
        "                break\n",
        "    return xk,fk,i,res\n",
        "\n",
        "\n",
        "\n"
      ]
    },
    {
      "cell_type": "code",
      "execution_count": 8,
      "metadata": {
        "id": "oYhRu73HoFdH"
      },
      "outputs": [],
      "source": [
        "# Esta celda o en otras adicionales pueden poner las pruebas realizadas.\n",
        "def f1(x):\n",
        "    return x**3 - 2*x + 1\n",
        "\n",
        "def f2(x):\n",
        "    return 1+x - (3/2)*x**2 + (1/6)*x**3+(1/4)*x**4\n",
        "\n",
        "def derf1(x):\n",
        "    return 3*x**2 - 2\n",
        "\n",
        "def derf2(x):\n",
        "    return 1 - 3*x + (1/2)*x**2 + x**3\n",
        "\n",
        "def der2f1(x):\n",
        "    return 6*x\n",
        "\n",
        "def der2f2(x):\n",
        "    return -3 + x + 3*x**2\n"
      ]
    },
    {
      "cell_type": "code",
      "source": [
        "# Implementación de los métodos: Halley f1\n",
        "xk,fk,i,res = Halley(-1000, f1, derf1, der2f1, 1000, 10e-6)\n",
        "print(\"Evaluando la fúnción 1 con el método de Halley:\")\n",
        "print(\"xk:\" ,xk , \", f(xk):\", fk, \", iteraciones:\", i, \", res\", res)"
      ],
      "metadata": {
        "colab": {
          "base_uri": "https://localhost:8080/"
        },
        "id": "AgDUzh-wwY6N",
        "outputId": "d87eeaf1-5363-407d-f0b6-4b2df11b5c9b"
      },
      "execution_count": 13,
      "outputs": [
        {
          "output_type": "stream",
          "name": "stdout",
          "text": [
            "Evaluando la fúnción 1 con el método de Halley:\n",
            "xk: -1.6180339887504553 , f(xk): -3.2809310823722626e-12 , it3eraciones: 12 , res 1\n"
          ]
        }
      ]
    },
    {
      "cell_type": "code",
      "source": [
        "# Implementación de los métodos: Newton-Raphson f1\n",
        "xk,fk,i,res = NewtonRaphson(-1000, f1, derf1, 1000, 10e-6)\n",
        "print(\"Evaluando la fúnción 1 con el método de Newton-Raphson:\")\n",
        "print(\"xk:\" ,xk , \", f(xk):\", fk, \", iteraciones:\", i, \", res\", res)"
      ],
      "metadata": {
        "colab": {
          "base_uri": "https://localhost:8080/"
        },
        "id": "U84LBfp40DA9",
        "outputId": "b3baa233-48be-4e29-a79d-aa3225792fb1"
      },
      "execution_count": 16,
      "outputs": [
        {
          "output_type": "stream",
          "name": "stdout",
          "text": [
            "Evaluando la fúnción 1 con el método de Newton-Raphson:\n",
            "xk: -1.6180339888222295 , f(xk): -4.234541606251696e-10 , iteraciones: 20 , res 1\n"
          ]
        }
      ]
    },
    {
      "cell_type": "code",
      "source": [
        "# Implementación de los métodos: Halley f2\n",
        "xk,fk,i,res = Halley(-1000, f2, derf2, der2f2, 1000, 10e-6)\n",
        "print(\"Evaluando la fúnción 2 con el método de Halley:\")\n",
        "print(\"xk:\" ,xk , \", f(xk):\", fk, \", iteraciones:\", i, \", res\", res)"
      ],
      "metadata": {
        "colab": {
          "base_uri": "https://localhost:8080/"
        },
        "id": "1R7MAOz41Aa1",
        "outputId": "93ba0f59-35cc-46a9-a631-1b8ae90fc1d3"
      },
      "execution_count": 17,
      "outputs": [
        {
          "output_type": "stream",
          "name": "stdout",
          "text": [
            "Evaluando la fúnción 2 con el método de Halley:\n",
            "xk: -2.9796542579895906 , f(xk): 8.718689059605822e-07 , iteraciones: 14 , res 1\n"
          ]
        }
      ]
    },
    {
      "cell_type": "code",
      "source": [
        "# Implementación de los métodos: Newton-Raphson f2\n",
        "xk,fk,i,res = NewtonRaphson(-1000, f2, derf2, 1000, 10e-6)\n",
        "print(\"Evaluando la fúnción 2 con el método de Newton-Raphson:\")\n",
        "print(\"xk:\" ,xk , \", f(xk):\", fk, \", iteraciones:\", i, \", res\", res)"
      ],
      "metadata": {
        "colab": {
          "base_uri": "https://localhost:8080/"
        },
        "id": "6KPXunmp1JxU",
        "outputId": "863d7d8d-a0c1-4501-a9cc-471c0f2bd8d5"
      },
      "execution_count": 18,
      "outputs": [
        {
          "output_type": "stream",
          "name": "stdout",
          "text": [
            "Evaluando la fúnción 2 con el método de Newton-Raphson:\n",
            "xk: -2.9796541859258454 , f(xk): 1.6091874499579717e-09 , iteraciones: 25 , res 1\n"
          ]
        }
      ]
    },
    {
      "cell_type": "markdown",
      "metadata": {
        "id": "w377eQmNoFdI"
      },
      "source": [
        "Esta celda es para el comentario:\n",
        "\n",
        "\n"
      ]
    },
    {
      "cell_type": "markdown",
      "source": [
        "Podemos ver que con el método de Halley la función converge más rápido. Esto quiza se deba a que se utiliza la segunda derivada y esto nos da más información para encontrar la concavidad de la función."
      ],
      "metadata": {
        "id": "_td1AvTCvXnj"
      }
    },
    {
      "cell_type": "markdown",
      "metadata": {
        "id": "f6Z0wBokoFdJ"
      },
      "source": [
        "## Ejercicio 2 (4 puntos)\n",
        "\n",
        "Una manera de aproximar la función $\\cos(x)$ es mediante la función \n",
        "\n",
        "$$ C(x; n) =  \\sum_{i=0}^n c_i $$\n",
        "\n",
        "donde $n$ es un parámetro que indica la cantidad de términos en la\n",
        "suma y \n",
        "\n",
        "$$ c_i = -c_{i-1} \\frac{x^2}{2i(2i-1)} \\quad \\text{y} \\quad c_0 = 1.$$\n",
        "\n",
        "1. Programe la función $C(x;n)$.\n",
        "2. Imprima el valor del error  $C(x;n)-1$ para $x \\in \\{2\\pi, 8\\pi, 12\\pi \\}$ y\n",
        "   $n = 10, 50, 100, 200$.\n",
        "3. Imprima el valor del error  $C(x;n)+1$ para $x \\in \\{\\pi, 9\\pi, 13\\pi \\}$ y\n",
        "   $n = 10, 50, 100, 200$.\n",
        "4. Comente sobre el comportamiento de los errores obtenidos y cuál sería\n",
        "   una manera apropiada de usar esta función.\n",
        "\n",
        "### Solución:"
      ]
    },
    {
      "cell_type": "code",
      "execution_count": 2,
      "metadata": {
        "id": "ujNUBSS6oFdK"
      },
      "outputs": [],
      "source": [
        "# En esta celda puede poner el código de la función \n",
        "# o poner la instrucción para importar la función de un archivo .py\n",
        "import numpy as np\n",
        "\n",
        "def cos(x,n):\n",
        "    sum = 1\n",
        "    prev = 1\n",
        "    for i in range(1,n+1):\n",
        "        cur = -prev* x**2 / (2* i *(2*i-1)) \n",
        "        sum = sum + cur\n",
        "        prev = cur\n",
        "\n",
        "    return sum\n",
        "\n",
        "\n"
      ]
    },
    {
      "cell_type": "code",
      "execution_count": 9,
      "metadata": {
        "colab": {
          "base_uri": "https://localhost:8080/"
        },
        "id": "Pq_vAbACoFdL",
        "outputId": "ad0dcf56-abe2-4776-c5ed-e3379d110e70"
      },
      "outputs": [
        {
          "output_type": "stream",
          "name": "stdout",
          "text": [
            "x: 6.283185307179586 n: 10 Error: 0.0003012240418271972\n",
            "x: 6.283185307179586 n: 50 Error: -4.6629367034256575e-15\n",
            "x: 6.283185307179586 n: 100 Error: -4.6629367034256575e-15\n",
            "x: 6.283185307179586 n: 200 Error: -4.6629367034256575e-15\n",
            "x: 25.132741228718345 n: 10 Error: 2515268877.313313\n",
            "x: 25.132741228718345 n: 50 Error: 4.869289242925845e-07\n",
            "x: 25.132741228718345 n: 100 Error: 4.869289242925845e-07\n",
            "x: 25.132741228718345 n: 200 Error: 4.869289242925845e-07\n",
            "x: 37.69911184307752 n: 10 Error: 10801559649420.639\n",
            "x: 37.69911184307752 n: 50 Error: 0.19176691520961198\n",
            "x: 37.69911184307752 n: 100 Error: 0.13572456351592055\n",
            "x: 37.69911184307752 n: 200 Error: 0.13572456351592055\n"
          ]
        }
      ],
      "source": [
        "# En esta celda o en otra adicionales puede poner las\n",
        "# pruebas realizadas\n",
        "\n",
        "\n",
        "\n",
        "#Ejercicios 2\n",
        "\n",
        "for x in [2*np.pi, 8*np.pi,12*np.pi]:\n",
        "    for i in [10,50,100,200]:\n",
        "        print(\"x:\", x, \"n:\", i, \"Error:\", cos(x,i)-1)\n",
        "\n"
      ]
    },
    {
      "cell_type": "code",
      "source": [
        "\n",
        "#Ejercicios 3\n",
        "\n",
        "for x in [np.pi, 9*np.pi,13*np.pi]:\n",
        "    for i in [10,50,100,200]:\n",
        "        print(\"x:\", x, \"n:\", i, \"Error:\", cos(x,i)+1)"
      ],
      "metadata": {
        "colab": {
          "base_uri": "https://localhost:8080/"
        },
        "id": "YasLGlWsqFfH",
        "outputId": "0d90dbfd-54e4-4926-8750-94ae12f16001"
      },
      "execution_count": 10,
      "outputs": [
        {
          "output_type": "stream",
          "name": "stdout",
          "text": [
            "x: 3.141592653589793 n: 10 Error: 7.565070792026063e-11\n",
            "x: 3.141592653589793 n: 50 Error: -2.220446049250313e-16\n",
            "x: 3.141592653589793 n: 100 Error: -2.220446049250313e-16\n",
            "x: 3.141592653589793 n: 200 Error: -2.220446049250313e-16\n",
            "x: 28.274333882308138 n: 10 Error: 29037871175.43674\n",
            "x: 28.274333882308138 n: 50 Error: -1.0977908454945506e-05\n",
            "x: 28.274333882308138 n: 100 Error: -1.0977908465603647e-05\n",
            "x: 28.274333882308138 n: 200 Error: -1.0977908465603647e-05\n",
            "x: 40.840704496667314 n: 10 Error: 55393063446067.77\n",
            "x: 40.840704496667314 n: 50 Error: 194.4088792156606\n",
            "x: 40.840704496667314 n: 100 Error: 1.4636083162256588\n",
            "x: 40.840704496667314 n: 200 Error: 1.4636083162256588\n"
          ]
        }
      ]
    },
    {
      "cell_type": "markdown",
      "metadata": {
        "id": "-kQUf89toFdM"
      },
      "source": [
        "Esta celda es para el comentario:\n",
        "\n"
      ]
    },
    {
      "cell_type": "markdown",
      "metadata": {
        "id": "WmYV5J7HoFdO"
      },
      "source": [
        "\n",
        "Podemos notar que comparando, mientras el valor de la $x$ sea mayor, mayor será el error. Vemos que se puede hacer más pequeño el error si el valor de la $n$ es mayor.\n",
        "\n",
        "La manera más apropiada de usar la función, es que si tenemos una $x$ pequeña, es mejor usar una $n$ también pequeña para que no itere tantas veces, ya que es innecesario.\n",
        "\n",
        "Si la $x$ es grande, lo mejor es usar una $n$ grande para poder minimizar el error lo más posible."
      ]
    }
  ],
  "metadata": {
    "kernelspec": {
      "display_name": "Python 3 (ipykernel)",
      "language": "python",
      "name": "python3"
    },
    "language_info": {
      "codemirror_mode": {
        "name": "ipython",
        "version": 3
      },
      "file_extension": ".py",
      "mimetype": "text/x-python",
      "name": "python",
      "nbconvert_exporter": "python",
      "pygments_lexer": "ipython3",
      "version": "3.9.7"
    },
    "colab": {
      "name": "optim_tarea01.ipynb",
      "provenance": []
    }
  },
  "nbformat": 4,
  "nbformat_minor": 0
}