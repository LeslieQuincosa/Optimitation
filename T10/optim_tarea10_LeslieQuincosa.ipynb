{
  "cells": [
    {
      "cell_type": "markdown",
      "id": "86d895cd-e697-4e36-a5e7-51f875cffda3",
      "metadata": {
        "id": "86d895cd-e697-4e36-a5e7-51f875cffda3"
      },
      "source": [
        "# Curso de Optimización (DEMAT)\n",
        "## Tarea 10\n",
        "\n",
        "| Descripción:                         | Fechas               |\n",
        "|--------------------------------------|----------------------|\n",
        "| Fecha de publicación del documento:  | **Mayo 12, 2022**   |\n",
        "| Fecha límite de entrega de la tarea: | **Mayo 17, 2022**   |\n",
        "\n",
        "\n",
        "### Indicaciones\n",
        "\n",
        "- Envie el notebook que contenga los códigos y las pruebas realizadas de cada ejercicio.\n",
        "- Si se requiren algunos scripts adicionales para poder reproducir las pruebas,\n",
        "  agreguelos en un ZIP junto con el notebook.\n",
        "- Genere un PDF del notebook y envielo por separado."
      ]
    },
    {
      "cell_type": "markdown",
      "id": "520f90ed-b60b-4550-a107-62d92f388c77",
      "metadata": {
        "id": "520f90ed-b60b-4550-a107-62d92f388c77"
      },
      "source": [
        "---\n",
        "\n",
        "## Ejercicio 1 (4 puntos)\n",
        "\n",
        "1. Escriba la descripción del tema para el proyecto final del curso.\n",
        "2. La descripción no tiene que ser detallada. Sólo debe quedar claro cual\n",
        "   el problema que quiere resolver, si ya cuentan con la información para resolver\n",
        "   el problema (datos, referencia bibliográfica, etc.)\n",
        "3. Mencione el tipo de pruebas que va a realizar y la manera en que va a validar los resultados.\n",
        "4. En la semana de 16 de mayo recibirá un mensaje que indica si el tema\n",
        "   fue aceptado o necesita precisar algo o cambiarlo.\n"
      ]
    },
    {
      "cell_type": "markdown",
      "id": "cb87bcab-0962-49a9-a4c0-d1b69ff8f7cc",
      "metadata": {
        "id": "cb87bcab-0962-49a9-a4c0-d1b69ff8f7cc"
      },
      "source": [
        "## Descripción del proyecto\n",
        "\n",
        "\n",
        "\n",
        "\n",
        "\n",
        "\n"
      ]
    },
    {
      "cell_type": "markdown",
      "source": [
        "**Pryecto:** Implementación de un algoritmo genético para resolver el problema $3-SAT$ (Boolean satisfiability problem)\n",
        "\n",
        "**Introducción:**\n",
        "\n",
        "La evolución a través de la selección natural de una población de individuos elegidos al azar se puede considerar como una búsqueda a través del espacio de posibles valores cromosómicos. En ese sentido, un algoritmo genético (AG) es una búsqueda estocástica de una solución óptima a un problema dado.\n",
        "\n",
        "El problema SAT es el problema de saber si, dada una expresión booleana con variables y sin cuantificadores, hay alguna asignación de valores para sus variables que hace la expresión\n",
        "verdadera.\n",
        "\n",
        "En el proyecto se implementará un algoritmo genético (AG).\n",
        "\n",
        "Características que simula un AG acerca de la selección natural:\n",
        "\n",
        "– Un sistema biológico consta de una población de individuos, muchos de los cuales tienen la habilidad de reproducirse.\n",
        "\n",
        "– Los individuos tienen una vida útil finita.\n",
        "\n",
        "– Hay variación en la población. \n",
        "\n",
        "– La habilidad para sobrevivir está correlacionada positivamente con la habilidad de reproducirse.\n",
        "\n",
        "**Características de un AG:**\n",
        "\n",
        "– Representación: cadenas de bits (1s y 0s)\n",
        "\n",
        "– Selección: Ruleta (Proporcional, esto se explícara más detalladamente en la presentación)\n",
        "\n",
        "– Variaciones: Cruza.\n",
        "\n",
        "**Breve Pseudocodigo:**\n",
        "Inicializar $t = 0$\n",
        "\n",
        "– Inicializar $P(t)$\n",
        "\n",
        "– Evaluar estructuras en $P(t)$\n",
        "\n",
        "– Mientras no se llegue a la condición de paro, hacer\n",
        "$t = t + 1$\n",
        "\n",
        "• Seleccionar $R(t)$ de $P (t − 1)$\n",
        "\n",
        "• Cruzar R(t) para obtener $C(t)$\n",
        "\n",
        "• Mutar C(t) para obtener $C′(t)$\n",
        "\n",
        "• Evaluar estructuras en $C′(t)$\n",
        "\n",
        "• Reemplazar $P(t)$ con $C′(t)$ y $P(t − 1)$\n",
        "\n",
        "Mencionare las aplicaciones de estos códigos y su relevancia en la ciencia.\n",
        "\n",
        "Bibliografía: **Computational Intelligence, Second Edition.** *Andries P. Engelbrecht. University of Pretoria, South Africa.*"
      ],
      "metadata": {
        "id": "tQm_ANFpmPxZ"
      },
      "id": "tQm_ANFpmPxZ"
    },
    {
      "cell_type": "markdown",
      "id": "70b9bc7d-077d-4d9a-866b-d7d379d4c3ca",
      "metadata": {
        "id": "70b9bc7d-077d-4d9a-866b-d7d379d4c3ca"
      },
      "source": [
        "## Ejercicio 2. (3 puntos)\n",
        "\n",
        "Considere el ejemplo visto en clase:\n",
        "\n",
        "$$\n",
        "\\begin{array}{rl}\n",
        "\\max & x_1 + x_2\\\\\n",
        "     & 50x_1 + 24x_2 \\leq 2400 \\\\\n",
        "     & 30x_1 + 33x_2 \\leq 2100 \\\\\n",
        "     & x_1 \\geq 45 \\\\\n",
        "     & x_2 \\geq 5\n",
        "\\end{array}\n",
        "$$\n",
        "\n",
        "Vimos que se puede escribir en forma estándar como:\n",
        "\n",
        "$$\n",
        "\\begin{array}{rl}\n",
        "\\min & -x_1 - x_2\\\\\n",
        "     & 50x_1 + 24x_2 + x_3 =  2400 \\\\\n",
        "     & 30x_1 + 33x_2 + x_4 =  2100 \\\\\n",
        "     & x_1 - x_5 = 45 \\\\\n",
        "     & x_2 - x_6 =  5 \\\\\n",
        "     & x_1, x_2, x_3, x_4, x_5, x_6 \\geq 0\n",
        "\\end{array}\n",
        "$$\n",
        "\n",
        "Puede usar el código del Notebook **ejemploPuntosBasicosFactibles.ipynb** \n",
        "para obtener la solución $\\mathbf{x}_*$ del problema en forma estándar.\n",
        "\n",
        "Las condiciones KKT son:\n",
        "\n",
        "$$\n",
        "\\begin{array}{rclc}\n",
        "  \\mathbf{A}^\\top \\mathbf{\\lambda} + \\mathbf{s} &=& \\mathbf{c}, & (1) \\\\\n",
        "  \\mathbf{A}\\mathbf{x} &=& \\mathbf{b}, & (2) \\\\\n",
        "  \\mathbf{x} & \\geq & \\mathbf{0}, & (3)  \\\\\n",
        "  \\mathbf{s} & \\geq & \\mathbf{0}, & (4)  \\\\\n",
        "  x_i s_i &=& 0, \\qquad i=1,2,...,n. & (5)\n",
        "\\end{array}\n",
        "$$\n",
        "\n",
        "Debe ser claro que por la manera en que se calculó $\\mathbf{x}_*$ en el ejemplo\n",
        "de la clase, se cumplen las condiciones (2) y (3).\n",
        "\n",
        "1. Dado $\\mathbf{x}_*$ y por la condición de complementaridad (5), sabemos cuáles son las componentes \n",
        "   de $\\mathbf{s}$ que son cero y cuáles deben ser calculadas. \n",
        "   Use eso y la condición (1) para calcular $\\mathbf{\\lambda}$ y las componentes\n",
        "   de $\\mathbf{s}$ desconocidas.\n",
        "   Imprima los vectores $\\mathbf{\\lambda}$ y $\\mathbf{s}$.\n",
        "2. Verique que se cumplen la condiciones (4) y (5), y con esto se comprueba\n",
        "   que $\\mathbf{x}_*$ es solución del problema estándar.\n",
        "3. Calcule el valor \n",
        "\n",
        "$$\\mathbf{b}^\\top \\lambda $$\n",
        "\n",
        "   y compare este valor con el\n",
        "   valor de la función objetivo $\\mathbf{c}^\\top \\mathbf{x}_*$.\n",
        "\n",
        "### Solución: "
      ]
    },
    {
      "cell_type": "code",
      "execution_count": 1,
      "id": "78960c8d-5430-41ea-bda0-f00bf4f38cd0",
      "metadata": {
        "colab": {
          "base_uri": "https://localhost:8080/"
        },
        "id": "78960c8d-5430-41ea-bda0-f00bf4f38cd0",
        "outputId": "e5ca1d48-b0fb-440f-ff6b-756e5923dd55"
      },
      "outputs": [
        {
          "output_type": "stream",
          "name": "stdout",
          "text": [
            "Número de combinaciones: 15\n",
            "4890.1   -50.0|    45.00     5.00    30.00   585.00     0.00     0.00| Factible\n",
            "2175.8   -69.5|    64.50     5.00  -945.00     0.00    19.50     0.00| No factible\n",
            "1975.8   -67.7|    45.00    22.73  -395.45     0.00     0.00    17.73| No factible\n",
            "1305.9   -50.6|    45.60     5.00     0.00   567.00     0.60     0.00| Factible\n",
            "2720.9   -51.2|    45.00     6.25     0.00   543.75     0.00     1.25| Factible\n",
            "  70.1   -66.5|    30.97    35.48     0.00     0.00   -14.03    30.48| No factible\n",
            "Es casi singular la matriz B con columnas [0, 2, 3, 4]\n",
            "3402.0   -45.0|    45.00     0.00   150.00   750.00     0.00    -5.00| No factible\n",
            " 113.4   -70.0|    70.00     0.00 -1100.00     0.00    25.00    -5.00| No factible\n",
            "  68.0   -48.0|    48.00     0.00     0.00   660.00     3.00    -5.00| No factible\n",
            "1667.0    -5.0|     0.00     5.00  2280.00  1935.00   -45.00     0.00| No factible\n",
            "Es casi singular la matriz B con columnas [1, 2, 3, 5]\n",
            "  50.5   -63.6|     0.00    63.64   872.73     0.00   -45.00    58.64| No factible\n",
            "  69.4  -100.0|     0.00   100.00     0.00 -1200.00   -45.00    95.00| No factible\n",
            "   1.0     0.0|     0.00     0.00  2400.00  2100.00   -45.00    -5.00| No factible\n",
            "\n",
            "Solución del problema estándar:\n",
            "x*= [ 45.     6.25   0.   543.75   0.     1.25]\n",
            "Valor de la función objetivo en x*= -51.25\n"
          ]
        }
      ],
      "source": [
        "# Pongo el codigo para obtener la solución x que calculamos en clase\n",
        "\n",
        "import numpy as np\n",
        "from itertools import combinations\n",
        "\n",
        "#Coficientes de la función a minimizar\n",
        "c = np.array([-1, -1, 0, 0, 0, 0 ]) \n",
        "\n",
        "#Restricciones\n",
        "b = np.array([2400, 2100, 45, 5])\n",
        "A = np.array([[50, 24, 1, 0, 0, 0],\n",
        "              [30, 33, 0, 1, 0, 0],\n",
        "              [ 1,  0, 0, 0,-1, 0],\n",
        "              [ 0,  1, 0, 0, 0,-1] ])\n",
        "\n",
        "m,n = A.shape\n",
        "comb = list(combinations(list(range(n)), m))\n",
        "print('Número de combinaciones:', len(comb))\n",
        "\n",
        "dmin = None\n",
        "for icols in comb:\n",
        "    # Indices de las columnas seleccionadas\n",
        "    jj = list(icols)\n",
        "    # Matriz básica\n",
        "    B     = A[:, jj]\n",
        "    condB = np.linalg.cond(B)\n",
        "    if condB>1.0e14:\n",
        "        print('Es casi singular la matriz B con columnas', jj)\n",
        "    else:\n",
        "        # Solucion del sistema B*x=b\n",
        "        xb = np.linalg.solve(B, b)\n",
        "        # Solucion del problema en forma estándar\n",
        "        x     = np.zeros(n)\n",
        "        x[jj] = xb\n",
        "        # Evaluación de la función objetivo\n",
        "        f = np.vdot(c, x)\n",
        "        # Se revisa si es vector x es factible. Claramente se cumple que A*x=b,\n",
        "        # pero hay que verificar que x>=0.\n",
        "        smsg  = 'No factible'\n",
        "        bfact = False \n",
        "        if sum(x>=0)==len(x):\n",
        "            bfact = True\n",
        "            smsg  = 'Factible'\n",
        "        if bfact:\n",
        "            # Si x es factible, almacenamos en xsol el punto x donde f es mínima\n",
        "            if dmin==None:\n",
        "                dmin = f\n",
        "                xsol = x.copy()\n",
        "            elif dmin>f:\n",
        "                dmin = f\n",
        "                xsol = x.copy()\n",
        "        print(\"%6.1f %7.1f| % 8.2f % 8.2f % 8.2f % 8.2f % 8.2f % 8.2f| %s\" % (condB, \n",
        "                          f,  x[0], x[1], x[2], x[3], x[4], x[5], smsg))\n",
        "        \n",
        "# Fijamos una tolerancia y hacemos cero las componentes de x que son menores que la tolerancia        \n",
        "tol = (np.finfo(float).eps)**(3.0/4)\n",
        "ii  = np.where(xsol<tol)[0]\n",
        "xsol[ii] = 0.0\n",
        "\n",
        "print('\\nSolución del problema estándar:')\n",
        "print('x*=', xsol)\n",
        "print('Valor de la función objetivo en x*=', dmin)\n"
      ]
    },
    {
      "cell_type": "code",
      "execution_count": 2,
      "id": "04f90793-e5e8-4d27-978e-1d401d2267d6",
      "metadata": {
        "colab": {
          "base_uri": "https://localhost:8080/"
        },
        "id": "04f90793-e5e8-4d27-978e-1d401d2267d6",
        "outputId": "7e0faff7-2b82-4f7d-a348-feead69b1cae"
      },
      "outputs": [
        {
          "output_type": "stream",
          "name": "stdout",
          "text": [
            "lambda= [-0.04166667  0.          1.08333333 -0.        ]\n",
            "s= [0.         0.         0.04166667 0.         1.08333333 0.        ]\n"
          ]
        }
      ],
      "source": [
        "# Solucion del ejercicio\n",
        "lam=np.linalg.solve(A[:,[0,1,3,5]].T,c[[0,1,3,5]])\n",
        "print('lambda=', lam)\n",
        "s = c - A.T@lam\n",
        "print('s=', s)"
      ]
    },
    {
      "cell_type": "code",
      "source": [
        "print(b.T@lam)\n",
        "print(c.T@xsol)"
      ],
      "metadata": {
        "colab": {
          "base_uri": "https://localhost:8080/"
        },
        "id": "mz6-pdLI53K1",
        "outputId": "1cbbb945-1678-4d77-b729-c64de5926207"
      },
      "id": "mz6-pdLI53K1",
      "execution_count": 3,
      "outputs": [
        {
          "output_type": "stream",
          "name": "stdout",
          "text": [
            "-51.25000000000001\n",
            "-51.25\n"
          ]
        }
      ]
    },
    {
      "cell_type": "markdown",
      "id": "cf9a7233-615c-409e-a412-fc2c4d2f4736",
      "metadata": {
        "id": "cf9a7233-615c-409e-a412-fc2c4d2f4736"
      },
      "source": [
        "## Ejercicio 3. (3 puntos)\n",
        "\n",
        "Considere el problema \n",
        "\n",
        "$$\n",
        "\\begin{array}{rl}\n",
        "\\max & x_1 + 2x_2 + x_3 + x_4\\\\\n",
        "\\text{sujeto a}  & 2x_1 +  x_2 + 3 x_3 +  x_4 \\leq 8  \\\\\n",
        "                 & 2x_1 + 3x_2 +         4x_4 \\leq 12 \\\\\n",
        "                 & 3x_1 +  x_2 + 2 x_3        \\leq 18 \\\\\n",
        "                 & x_1, x_2, x_3, x_4 \\geq 0\n",
        "\\end{array}\n",
        "$$\n",
        "\n",
        "1. Escriba el problema en su forma estándar.\n",
        "2. Construya los vectores $\\mathbf{c}, \\mathbf{b}$ y la matriz $\\mathbf{A}$\n",
        "   del problema estándar y calcule la solución $\\mathbf{x}_*$ del problema.\n",
        "   Puede usar el código anterior.\n",
        "3. Calcule los vectores  $\\mathbf{\\lambda}$ y $\\mathbf{s}$ y \n",
        "   verique que se cumplen la condiciones (4) y (5), y con esto se comprueba\n",
        "   que $\\mathbf{x}_*$ es solución del problema estándar.\n",
        "4. Calcule el valor \n",
        "\n",
        "$$\\mathbf{b}^\\top \\lambda $$\n",
        "\n",
        "   y compare este valor con el\n",
        "   valor de la función objetivo $\\mathbf{c}^\\top \\mathbf{x}_*$.\n",
        "   \n",
        "### Solución:"
      ]
    },
    {
      "cell_type": "markdown",
      "source": [
        "Forma estándar\n",
        "\n",
        "$$\n",
        "\\begin{array}{rl}\n",
        "\\min & - x_1 - 2x_2 - x_3 - x_4\\\\\n",
        "\\text{sujeto a}  & 2x_1 +  x_2 + 3 x_3 +  x_4 + x_5 = 8  \\\\\n",
        "                 & 2x_1 + 3x_2 +         4x_4 + x_6= 12 \\\\\n",
        "                 & 3x_1 +  x_2 + 2 x_3        +x_7 = 18 \\\\\n",
        "                & x_1, x_2, x_3, x_4,  x_5, x_6, x_7 \\geq 0\n",
        "\\end{array}\n",
        "$$"
      ],
      "metadata": {
        "id": "lsRtP6PwgZSV"
      },
      "id": "lsRtP6PwgZSV"
    },
    {
      "cell_type": "code",
      "execution_count": 4,
      "id": "c1710338-ddea-439b-a488-d91f31530917",
      "metadata": {
        "colab": {
          "base_uri": "https://localhost:8080/"
        },
        "id": "c1710338-ddea-439b-a488-d91f31530917",
        "outputId": "5f2202d2-c122-42ce-a633-4f2994cb8d78"
      },
      "outputs": [
        {
          "output_type": "stream",
          "name": "stdout",
          "text": [
            "Número de combinaciones: 35\n",
            "   6.8    -3.2|     7.85    -1.23    -2.15     0.00     0.00     0.00| No factible\n",
            "  33.8   -23.3|     0.67    16.00     0.00    -9.33     0.00     0.00| No factible\n",
            "   6.0    -6.0|     6.00     0.00     0.00     0.00    -4.00     0.00| No factible\n",
            "  45.7    14.0|    10.00   -12.00     0.00     0.00     0.00    28.00| No factible\n",
            "  11.2    -7.0|     3.00     2.00     0.00     0.00     0.00     0.00| Factible\n",
            "   4.9    -4.7|     7.33     0.00    -2.00    -0.67     0.00     0.00| No factible\n",
            "  12.4    -6.0|     6.00     0.00     0.00     0.00    -4.00     0.00| No factible\n",
            "  10.2    -5.2|     7.60     0.00    -2.40     0.00     0.00    -3.20| No factible\n",
            "   7.9    -4.7|     6.00     0.00    -1.33     0.00     0.00     0.00| No factible\n",
            "   6.0    -6.0|     6.00     0.00     0.00     0.00    -4.00     0.00| No factible\n",
            "  24.9    -2.0|     6.00     0.00     0.00    -4.00     0.00    16.00| No factible\n",
            "  12.5    -4.7|     3.33     0.00     0.00     1.33     0.00     0.00| Factible\n",
            "   5.8    -6.0|     6.00     0.00     0.00     0.00    -4.00     0.00| No factible\n",
            "   8.9    -6.0|     6.00     0.00     0.00     0.00    -4.00     0.00| No factible\n",
            "   8.9    -4.0|     4.00     0.00     0.00     0.00     0.00     4.00| Factible\n",
            "   9.9   -25.2|     0.00    17.60     0.20   -10.20     0.00     0.00| No factible\n",
            "   7.8   -15.0|     0.00     4.00     7.00     0.00   -17.00     0.00| No factible\n",
            "  48.0   -66.0|     0.00    38.00   -10.00     0.00     0.00  -102.00| No factible\n",
            "   5.1    -9.3|     0.00     4.00     1.33     0.00     0.00     0.00| Factible\n",
            "   6.9   -25.5|     0.00    18.00     0.00   -10.50     0.50     0.00| No factible\n",
            "  23.5   -26.0|     0.00    18.00     0.00   -10.00     0.00    -2.00| No factible\n",
            "  34.8   -28.0|     0.00    20.00     0.00   -12.00     0.00     0.00| No factible\n",
            "  11.9   -36.0|     0.00    18.00     0.00     0.00   -10.00   -42.00| No factible\n",
            "   3.7    -8.0|     0.00     4.00     0.00     0.00     4.00     0.00| Factible\n",
            "  11.9   -16.0|     0.00     8.00     0.00     0.00     0.00   -12.00| No factible\n",
            "   8.1   -12.0|     0.00     0.00     9.00     3.00   -22.00     0.00| No factible\n",
            "  33.0    10.0|     0.00     0.00     9.00   -19.00     0.00    88.00| No factible\n",
            "   5.3    -4.7|     0.00     0.00     1.67     3.00     0.00     0.00| Factible\n",
            "   6.9    -9.0|     0.00     0.00     9.00     0.00   -19.00    12.00| No factible\n",
            "Es casi singular la matriz B con columnas [2, 4, 6]\n",
            "   4.4    -2.7|     0.00     0.00     2.67     0.00     0.00    12.00| Factible\n",
            "Es casi singular la matriz B con columnas [3, 4, 5]\n",
            "   4.3    -3.0|     0.00     0.00     0.00     3.00     5.00     0.00| Factible\n",
            "  17.9    -8.0|     0.00     0.00     0.00     8.00     0.00   -20.00| No factible\n",
            "   1.0     0.0|     0.00     0.00     0.00     0.00     8.00    12.00| Factible\n",
            "\n",
            "Solución del problema estándar:\n",
            "x*= [ 0.          4.          1.33333333  0.          0.          0.\n",
            " 11.33333333]\n",
            "Valor de la función objetivo en x*= -9.333333333333334\n"
          ]
        }
      ],
      "source": [
        "#Coficientes de la función a minimizar\n",
        "c = np.array([-1, -2, -1, -1, 0, 0, 0]) \n",
        "\n",
        "#Restricciones\n",
        "b = np.array([8, 12, 18])\n",
        "A = np.array([[2, 1, 3, 1, 1, 0, 0],\n",
        "              [2, 3, 0, 4, 0, 1, 0],\n",
        "              [3, 1, 2, 0, 0, 0, 1]])\n",
        "\n",
        "m,n = A.shape\n",
        "comb = list(combinations(list(range(n)), m))\n",
        "print('Número de combinaciones:', len(comb))\n",
        "\n",
        "dmin = None\n",
        "for icols in comb:\n",
        "    # Indices de las columnas seleccionadas\n",
        "    jj = list(icols)\n",
        "    # Matriz básica\n",
        "    B     = A[:, jj]\n",
        "    condB = np.linalg.cond(B)\n",
        "    if condB>1.0e14:\n",
        "        print('Es casi singular la matriz B con columnas', jj)\n",
        "    else:\n",
        "        # Solucion del sistema B*x=b\n",
        "        xb = np.linalg.solve(B, b)\n",
        "        # Solucion del problema en forma estándar\n",
        "        x     = np.zeros(n)\n",
        "        x[jj] = xb\n",
        "        # Evaluación de la función objetivo\n",
        "        f = np.vdot(c, x)\n",
        "        # Se revisa si es vector x es factible. Claramente se cumple que A*x=b,\n",
        "        # pero hay que verificar que x>=0.\n",
        "        smsg  = 'No factible'\n",
        "        bfact = False \n",
        "        if sum(x>=0)==len(x):\n",
        "            bfact = True\n",
        "            smsg  = 'Factible'\n",
        "        if bfact:\n",
        "            # Si x es factible, almacenamos en xsol el punto x donde f es mínima\n",
        "            if dmin==None:\n",
        "                dmin = f\n",
        "                xsol = x.copy()\n",
        "            elif dmin>f:\n",
        "                dmin = f\n",
        "                xsol = x.copy()\n",
        "        print(\"%6.1f %7.1f| % 8.2f % 8.2f % 8.2f % 8.2f % 8.2f % 8.2f| %s\" % (condB, \n",
        "                          f,  x[0], x[1], x[2], x[3], x[4], x[5], smsg))\n",
        "        \n",
        "# Fijamos una tolerancia y hacemos cero las componentes de x que son menores que la tolerancia        \n",
        "tol = (np.finfo(float).eps)**(3.0/4)\n",
        "ii  = np.where(xsol<tol)[0]\n",
        "xsol[ii] = 0.0\n",
        "\n",
        "print('\\nSolución del problema estándar:')\n",
        "print('x*=', xsol)\n",
        "print('Valor de la función objetivo en x*=', dmin)\n"
      ]
    },
    {
      "cell_type": "markdown",
      "id": "e305d1f1-4837-4753-a920-bed392dddf9e",
      "metadata": {
        "id": "e305d1f1-4837-4753-a920-bed392dddf9e"
      },
      "source": [
        "\n",
        "```\n",
        "\n",
        "\n",
        "\n",
        "```\n",
        "---\n"
      ]
    },
    {
      "cell_type": "code",
      "execution_count": 5,
      "id": "523ccea2-067a-4527-ac98-8acf9957c3eb",
      "metadata": {
        "colab": {
          "base_uri": "https://localhost:8080/"
        },
        "id": "523ccea2-067a-4527-ac98-8acf9957c3eb",
        "outputId": "7de75e6d-2af8-4a04-bfad-83e4f1a9768c"
      },
      "outputs": [
        {
          "output_type": "stream",
          "name": "stdout",
          "text": [
            "[-0.33333333 -0.55555556  0.        ]\n",
            "s= [0.77777778 0.         0.         1.55555556 0.33333333 0.55555556\n",
            " 0.        ]\n"
          ]
        }
      ],
      "source": [
        "lam=np.linalg.solve(A[:,[1,2,6]].T,c[[1,2,6]])\n",
        "print(lam)\n",
        "s = c - A.T@lam\n",
        "print('s=', s)"
      ]
    },
    {
      "cell_type": "code",
      "source": [
        "print(b.T@lam)\n",
        "print(c.T@xsol)"
      ],
      "metadata": {
        "colab": {
          "base_uri": "https://localhost:8080/"
        },
        "id": "dICRBXb221RQ",
        "outputId": "fc46c15a-ea3a-4d3f-8d74-3200e3c5198f"
      },
      "id": "dICRBXb221RQ",
      "execution_count": 6,
      "outputs": [
        {
          "output_type": "stream",
          "name": "stdout",
          "text": [
            "-9.333333333333334\n",
            "-9.333333333333334\n"
          ]
        }
      ]
    },
    {
      "cell_type": "markdown",
      "source": [
        "Notemos que los valores (en ambos ejercicios) de $\\mathbf{c}^\\top \\mathbf{x}_* = \\mathbf{b}^\\top \\lambda $ son iguales como se deseaba para comparar el método simple con el dual."
      ],
      "metadata": {
        "id": "MOdwcLFTPhSV"
      },
      "id": "MOdwcLFTPhSV"
    }
  ],
  "metadata": {
    "kernelspec": {
      "display_name": "Python 3",
      "language": "python",
      "name": "python3"
    },
    "language_info": {
      "codemirror_mode": {
        "name": "ipython",
        "version": 3
      },
      "file_extension": ".py",
      "mimetype": "text/x-python",
      "name": "python",
      "nbconvert_exporter": "python",
      "pygments_lexer": "ipython3",
      "version": "3.8.8"
    },
    "colab": {
      "name": "optim_tarea10.ipynb",
      "provenance": []
    }
  },
  "nbformat": 4,
  "nbformat_minor": 5
}